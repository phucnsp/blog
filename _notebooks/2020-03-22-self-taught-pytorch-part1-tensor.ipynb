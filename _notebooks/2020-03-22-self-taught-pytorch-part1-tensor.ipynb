{
 "cells": [
  {
   "cell_type": "markdown",
   "metadata": {},
   "source": [
    "# Pytorch part 1 - basic tensor and Pytorch tensor\n",
    "> in progress\n",
    "- toc: true \n",
    "- badges: true\n",
    "- comments: true\n",
    "- categories: [self-taught]\n",
    "- image: images/pytorch_ava.png"
   ]
  },
  {
   "cell_type": "markdown",
   "metadata": {},
   "source": [
    "## Section 1: Introducing Pytorch\n",
    "- PyTorch Explained - Python Deep Learning Neural Network API\n",
    "- PyTorch Install - Quick and Easy\n",
    "- CUDA Explained - Why Deep Learning Uses GPUs"
   ]
  },
  {
   "cell_type": "markdown",
   "metadata": {},
   "source": [
    "## Section 2: Introducing Tensors\n",
    "- Tensors Explained - Data Structures of Deep Learning\n",
    "- Rank, Axes, and Shape Explained - Tensors for Deep Learning\n",
    "- CNN Tensor Shape Explained - CNNs and Feature Maps"
   ]
  },
  {
   "cell_type": "markdown",
   "metadata": {},
   "source": [
    "## Section 3: Pytorch Tensors\n",
    "- PyTorch Tensors Explained - Neural Network Programming\n",
    "- Creating PyTorch Tensors for Deep Learning - Best Options"
   ]
  },
  {
   "cell_type": "markdown",
   "metadata": {},
   "source": [
    "## Section 4: Tensor Operations\n",
    "- Flatten, Reshape, and Squeeze Explained - Tensors for Deep Learning\n",
    "- CNN Flatten Operation Visualized - Tensor Batch Processing\n",
    "- Tensors for Deep Learning - Broadcasting and Element-wise Operations\n",
    "- ArgMax and Reduction Ops - Tensors for Deep Learning"
   ]
  },
  {
   "cell_type": "markdown",
   "metadata": {},
   "source": [
    "## References\n",
    "Some good sources:\n",
    "- deeplizard : https://deeplizard.com/learn/video/v5cngxo4mIg\n",
    "- effective pytorch - vahidk https://github.com/vahidk/EffectivePyTorch?fbclid=IwAR1MhsjnjccWy6dIVtibFOCZbWhLtAj5pSTobnkUDxw_gHgfEswnVzqrKQ0#torchscript  \n",
    "- recommend walk with pytorch: https://forums.fast.ai/t/getting-comfortable-with-pytorch-projects/28371\n",
    "- official tutorial: https://pytorch.org/tutorials/\n",
    "- DL(with Pytorch): https://github.com/Atcold/pytorch-Deep-Learning\n",
    "- Pytorch project template: https://github.com/moemen95/PyTorch-Project-Template\n",
    "- nlp turorial with pytorch : https://github.com/graykode/nlp-tutorial\n",
    "- UDACITY course https://www.udacity.com/course/deep-learning-pytorch--ud188\n",
    "- awesome pytorch list: https://github.com/bharathgs/Awesome-pytorch-list\n",
    "- deep learning with pytorch https://pytorch.org/assets/deep-learning/Deep-Learning-with-PyTorch.pdf\n",
    "- pytorch zero to all: https://github.com/hunkim/PyTorchZeroToAll\n",
    "- others:\n",
    "    - https://medium.com/pytorch/get-started-with-pytorch-cloud-tpus-and-colab-a24757b8f7fc\n",
    "    - grokking book"
   ]
  },
  {
   "cell_type": "code",
   "execution_count": null,
   "metadata": {},
   "outputs": [],
   "source": []
  },
  {
   "cell_type": "code",
   "execution_count": null,
   "metadata": {},
   "outputs": [],
   "source": []
  }
 ],
 "metadata": {
  "kernelspec": {
   "display_name": "Python [conda env:fastai2] *",
   "language": "python",
   "name": "conda-env-fastai2-py"
  },
  "language_info": {
   "codemirror_mode": {
    "name": "ipython",
    "version": 3
   },
   "file_extension": ".py",
   "mimetype": "text/x-python",
   "name": "python",
   "nbconvert_exporter": "python",
   "pygments_lexer": "ipython3",
   "version": "3.7.6"
  },
  "pycharm": {
   "stem_cell": {
    "cell_type": "raw",
    "metadata": {
     "collapsed": false
    },
    "source": []
   }
  },
  "toc": {
   "base_numbering": 1,
   "nav_menu": {},
   "number_sections": true,
   "sideBar": true,
   "skip_h1_title": false,
   "title_cell": "Table of Contents",
   "title_sidebar": "Contents",
   "toc_cell": false,
   "toc_position": {},
   "toc_section_display": true,
   "toc_window_display": false
  }
 },
 "nbformat": 4,
 "nbformat_minor": 4
}
