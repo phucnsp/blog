{
 "cells": [
  {
   "cell_type": "markdown",
   "metadata": {},
   "source": [
    "# Kaggle competition - titanic machine learning from disaster\n",
    "> Analyse and predict on titanic dataset.\n",
    "\n",
    "- toc: true \n",
    "- badges: true\n",
    "- comments: true\n",
<<<<<<< HEAD
    "- categories: [kaggle]\n",
    "- image: images/icon_kaggle.png"
=======
    "- categories: [work]\n",
    "- image: images/chart-preview.png"
>>>>>>> e35bfbe467c4d855bcfbac45ab81bc5713ce5ef2
   ]
  },
  {
   "cell_type": "code",
   "execution_count": 1,
   "metadata": {},
   "outputs": [
    {
     "name": "stdout",
     "output_type": "stream",
     "text": [
      "   PassengerId  Pclass                                          Name     Sex  \\\n",
      "0          892       3                              Kelly, Mr. James    male   \n",
      "1          893       3              Wilkes, Mrs. James (Ellen Needs)  female   \n",
      "2          894       2                     Myles, Mr. Thomas Francis    male   \n",
      "3          895       3                              Wirz, Mr. Albert    male   \n",
      "4          896       3  Hirvonen, Mrs. Alexander (Helga E Lindqvist)  female   \n",
      "\n",
      "    Age  SibSp  Parch   Ticket     Fare Cabin Embarked  \n",
      "0  34.5      0      0   330911   7.8292   NaN        Q  \n",
      "1  47.0      1      0   363272   7.0000   NaN        S  \n",
      "2  62.0      0      0   240276   9.6875   NaN        Q  \n",
      "3  27.0      0      0   315154   8.6625   NaN        S  \n",
      "4  22.0      1      1  3101298  12.2875   NaN        S  \n"
     ]
    }
   ],
   "source": [
    "import pandas as pd\n",
    "train = pd.read_csv(\"train.csv\")\n",
    "holdout = pd.read_csv(\"test.csv\")\n",
    "print(holdout.head())"
   ]
  },
  {
   "cell_type": "code",
   "execution_count": 2,
   "metadata": {
    "collapsed": true
   },
   "outputs": [],
   "source": [
    "# %load functions.py\n",
    "def process_missing(df):\n",
    "    \"\"\"Handle various missing values from the data set\n",
    "\n",
    "    Usage\n",
    "    ------\n",
    "\n",
    "    holdout = process_missing(holdout)\n",
    "    \"\"\"\n",
    "    df[\"Fare\"] = df[\"Fare\"].fillna(train[\"Fare\"].mean())\n",
    "    df[\"Embarked\"] = df[\"Embarked\"].fillna(\"S\")\n",
    "    return df\n",
    "\n",
    "def process_age(df):\n",
    "    \"\"\"Process the Age column into pre-defined 'bins' \n",
    "\n",
    "    Usage\n",
    "    ------\n",
    "\n",
    "    train = process_age(train)\n",
    "    \"\"\"\n",
    "    df[\"Age\"] = df[\"Age\"].fillna(-0.5)\n",
    "    cut_points = [-1,0,5,12,18,35,60,100]\n",
    "    label_names = [\"Missing\",\"Infant\",\"Child\",\"Teenager\",\"Young Adult\",\"Adult\",\"Senior\"]\n",
    "    df[\"Age_categories\"] = pd.cut(df[\"Age\"],cut_points,labels=label_names)\n",
    "    return df\n",
    "\n",
    "def process_fare(df):\n",
    "    \"\"\"Process the Fare column into pre-defined 'bins' \n",
    "\n",
    "    Usage\n",
    "    ------\n",
    "\n",
    "    train = process_fare(train)\n",
    "    \"\"\"\n",
    "    cut_points = [-1,12,50,100,1000]\n",
    "    label_names = [\"0-12\",\"12-50\",\"50-100\",\"100+\"]\n",
    "    df[\"Fare_categories\"] = pd.cut(df[\"Fare\"],cut_points,labels=label_names)\n",
    "    return df\n",
    "\n",
    "def process_cabin(df):\n",
    "    \"\"\"Process the Cabin column into pre-defined 'bins' \n",
    "\n",
    "    Usage\n",
    "    ------\n",
    "\n",
    "    train process_cabin(train)\n",
    "    \"\"\"\n",
    "    df[\"Cabin_type\"] = df[\"Cabin\"].str[0]\n",
    "    df[\"Cabin_type\"] = df[\"Cabin_type\"].fillna(\"Unknown\")\n",
    "    df = df.drop('Cabin',axis=1)\n",
    "    return df\n",
    "\n",
    "def process_titles(df):\n",
    "    \"\"\"Extract and categorize the title from the name column \n",
    "\n",
    "    Usage\n",
    "    ------\n",
    "\n",
    "    train = process_titles(train)\n",
    "    \"\"\"\n",
    "    titles = {\n",
    "        \"Mr\" :         \"Mr\",\n",
    "        \"Mme\":         \"Mrs\",\n",
    "        \"Ms\":          \"Mrs\",\n",
    "        \"Mrs\" :        \"Mrs\",\n",
    "        \"Master\" :     \"Master\",\n",
    "        \"Mlle\":        \"Miss\",\n",
    "        \"Miss\" :       \"Miss\",\n",
    "        \"Capt\":        \"Officer\",\n",
    "        \"Col\":         \"Officer\",\n",
    "        \"Major\":       \"Officer\",\n",
    "        \"Dr\":          \"Officer\",\n",
    "        \"Rev\":         \"Officer\",\n",
    "        \"Jonkheer\":    \"Royalty\",\n",
    "        \"Don\":         \"Royalty\",\n",
    "        \"Sir\" :        \"Royalty\",\n",
    "        \"Countess\":    \"Royalty\",\n",
    "        \"Dona\":        \"Royalty\",\n",
    "        \"Lady\" :       \"Royalty\"\n",
    "    }\n",
    "    extracted_titles = df[\"Name\"].str.extract(' ([A-Za-z]+)\\.',expand=False)\n",
    "    df[\"Title\"] = extracted_titles.map(titles)\n",
    "    return df\n",
    "\n",
    "def create_dummies(df,column_name):\n",
    "    \"\"\"Create Dummy Columns (One Hot Encoding) from a single Column\n",
    "\n",
    "    Usage\n",
    "    ------\n",
    "\n",
    "    train = create_dummies(train,\"Age\")\n",
    "    \"\"\"\n",
    "    dummies = pd.get_dummies(df[column_name],prefix=column_name)\n",
    "    df = pd.concat([df,dummies],axis=1)\n",
    "    return df"
   ]
  },
  {
   "cell_type": "code",
   "execution_count": 3,
   "metadata": {
    "collapsed": true
   },
   "outputs": [],
   "source": [
    "#preprocess the data \n",
    "def pre_process(df):\n",
    "    df = process_missing(df)\n",
    "    df = process_age(df)\n",
    "    df = process_fare(df)\n",
    "    df = process_titles(df)\n",
    "    df = process_cabin(df)\n",
    "\n",
    "    for col in [\"Age_categories\",\"Fare_categories\",\n",
    "                \"Title\",\"Cabin_type\",\"Sex\"]:\n",
    "        df = create_dummies(df,col)\n",
    "    \n",
    "    return df\n",
    "\n",
    "train = pre_process(train)\n",
    "holdout = pre_process(holdout)"
   ]
  },
  {
   "cell_type": "markdown",
   "metadata": {
    "collapsed": true
   },
   "source": [
    "# Data exploration"
   ]
  },
  {
   "cell_type": "code",
   "execution_count": 4,
   "metadata": {},
   "outputs": [
    {
     "name": "stdout",
     "output_type": "stream",
     "text": [
      "<class 'pandas.core.frame.DataFrame'>\n",
      "RangeIndex: 891 entries, 0 to 890\n",
      "Data columns (total 3 columns):\n",
      "SibSp       891 non-null int64\n",
      "Parch       891 non-null int64\n",
      "Survived    891 non-null int64\n",
      "dtypes: int64(3)\n",
      "memory usage: 21.0 KB\n"
     ]
    }
   ],
   "source": [
    "#Inspect data type of column \n",
    "explore_cols = [\"SibSp\",\"Parch\",\"Survived\"]\n",
    "explore = train[explore_cols].copy()\n",
    "explore.info()"
   ]
  },
  {
   "cell_type": "code",
   "execution_count": 5,
   "metadata": {},
   "outputs": [
    {
     "data": {
      "image/png": "iVBORw0KGgoAAAANSUhEUgAAAYsAAAD8CAYAAACGsIhGAAAABHNCSVQICAgIfAhkiAAAAAlwSFlz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\nAAAASUVORK5CYII=\n",
      "text/plain": [
       "<matplotlib.figure.Figure at 0x10f60dd68>"
      ]
     },
     "metadata": {},
     "output_type": "display_data"
    }
   ],
   "source": [
    "# Histogram to view the distribution of 2 columns: SibSp and Parch\n",
    "import matplotlib.pyplot as plt\n",
    "%matplotlib inline\n",
    "\n",
    "explore.drop(\"Survived\",axis=1).plot.hist(alpha=0.5,bins=8)\n",
    "plt.xticks(range(11))\n",
    "plt.show()"
   ]
  },
  {
   "cell_type": "code",
   "execution_count": 6,
   "metadata": {},
   "outputs": [
    {
     "data": {
      "image/png": "iVBORw0KGgoAAAANSUhEUgAAAYgAAAD8CAYAAABthzNFAAAABHNCSVQICAgIfAhkiAAAAAlwSFlz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\nfSHvdAAAAABJRU5ErkJggg==\n",
      "text/plain": [
       "<matplotlib.figure.Figure at 0x104c6aa58>"
      ]
     },
     "metadata": {},
     "output_type": "display_data"
    }
   ],
   "source": [
    "explore[\"familysize\"] = explore[[\"SibSp\",\"Parch\"]].sum(axis=1)\n",
    "explore.drop(\"Survived\",axis=1).plot.hist(alpha=0.5,bins=10)\n",
    "plt.xticks(range(11))\n",
    "plt.show()\n"
   ]
  },
  {
   "cell_type": "code",
   "execution_count": 7,
   "metadata": {},
   "outputs": [
    {
     "data": {
      "image/png": "iVBORw0KGgoAAAANSUhEUgAAAXcAAAEGCAYAAACevtWaAAAABHNCSVQICAgIfAhkiAAAAAlwSFlz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\nOdzNzBLkcDczS5DD3cwsQf8ftJEXK9eJP5MAAAAASUVORK5CYII=\n",
      "text/plain": [
       "<matplotlib.figure.Figure at 0x112c93d68>"
      ]
     },
     "metadata": {},
     "output_type": "display_data"
    },
    {
     "data": {
      "image/png": "iVBORw0KGgoAAAANSUhEUgAAAXcAAAEGCAYAAACevtWaAAAABHNCSVQICAgIfAhkiAAAAAlwSFlz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\nS5DD3cwsQf8fTN0JHGlheDYAAAAASUVORK5CYII=\n",
      "text/plain": [
       "<matplotlib.figure.Figure at 0x112a9f2b0>"
      ]
     },
     "metadata": {},
     "output_type": "display_data"
    },
    {
     "data": {
      "image/png": "iVBORw0KGgoAAAANSUhEUgAAAXcAAAENCAYAAAD0eSVZAAAABHNCSVQICAgIfAhkiAAAAAlwSFlz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\nswQ53M3MEvT/AKBrYl5bWUNHAAAAAElFTkSuQmCC\n",
      "text/plain": [
       "<matplotlib.figure.Figure at 0x112a3a240>"
      ]
     },
     "metadata": {},
     "output_type": "display_data"
    }
   ],
   "source": [
    "# Use pivot tables to look at the survival rate for different values of the columns\n",
    "import numpy as np\n",
    "\n",
    "for col in explore.columns.drop(\"Survived\"):\n",
    "    pivot = explore.pivot_table(index=col,values=\"Survived\")\n",
    "    pivot.plot.bar(ylim=(0,1),yticks=np.arange(0,1,.1))\n",
    "    plt.axhspan(.3, .6, alpha=0.2, color='red')\n",
    "    plt.show()"
   ]
  },
  {
   "cell_type": "markdown",
   "metadata": {},
   "source": [
    "The SibSp column shows the number of siblings and/or spouses each passenger had on board, while the Parch columns shows the number of parents or children each passenger had onboard. Neither column has any missing values.\n",
    "\n",
    "The distribution of values in both columns is skewed right, with the majority of values being zero.\n",
    "\n",
    "You can sum these two columns to explore the total number of family members each passenger had onboard. The shape of the distribution of values in this case is similar, however there are less values at zero, and the quantity tapers off less rapidly as the values increase.\n",
    "\n",
    "Looking at the survival rates of the the combined family members, you can see that few of the over 500 passengers with no family members survived, while greater numbers of passengers with family members survived."
   ]
  },
  {
   "cell_type": "markdown",
   "metadata": {},
   "source": [
    "# Engineering new features"
   ]
  },
  {
   "cell_type": "code",
   "execution_count": 8,
   "metadata": {
    "collapsed": true
   },
   "outputs": [],
   "source": [
    "# Based on the observation about few surviver with no family group, let's create a binary value column where 1 is with \n",
    "# family and 0 is without family\n",
    "\n",
    "def feature_alone(df):\n",
    "    df[\"familysize\"] = df[[\"SibSp\",\"Parch\"]].sum(axis=1)\n",
    "    df[\"isalone\"] = 0\n",
    "    df.loc[(df[\"familysize\"] == 0),\"isalone\"] = 1\n",
    "    df.drop(\"familysize\", axis = 1)\n",
    "    return df\n",
    "\n",
    "train = feature_alone(train)\n",
    "holdout = feature_alone(holdout)"
   ]
  },
  {
   "cell_type": "markdown",
   "metadata": {},
   "source": [
    "# Feature selection/preparation"
   ]
  },
  {
   "cell_type": "code",
   "execution_count": 9,
   "metadata": {},
   "outputs": [
    {
     "name": "stdout",
     "output_type": "stream",
     "text": [
      "Best Columns \n",
      "------------\n",
      "['Pclass', 'Age', 'SibSp', 'Parch', 'Fare', 'Age_categories_Adult', 'Age_categories_Infant', 'Age_categories_Missing', 'Age_categories_Senior', 'Age_categories_Teenager', 'Age_categories_Young Adult', 'Fare_categories_0-12', 'Fare_categories_100+', 'Fare_categories_12-50', 'Fare_categories_50-100', 'Title_Master', 'Title_Miss', 'Title_Mr', 'Title_Mrs', 'Title_Officer', 'Cabin_type_C', 'Cabin_type_D', 'Cabin_type_E', 'Cabin_type_Unknown', 'Sex_female', 'Sex_male', 'familysize', 'isalone']\n"
     ]
    }
   ],
   "source": [
    "# Select the best-performing features\n",
    "\n",
    "from sklearn.ensemble import RandomForestClassifier\n",
    "from sklearn.feature_selection import RFECV\n",
    "\n",
    "def select_features(df):\n",
    "    # Remove non-numeric columns, columns that have null values\n",
    "    df = df.select_dtypes([np.number]).dropna(axis=1)\n",
    "    all_X = df.drop([\"Survived\",\"PassengerId\"],axis=1)\n",
    "    all_y = df[\"Survived\"]\n",
    "    \n",
    "    clf = RandomForestClassifier(random_state=1)\n",
    "    selector = RFECV(clf,cv=10)\n",
    "    selector.fit(all_X,all_y)\n",
    "    \n",
    "    best_columns = list(all_X.columns[selector.support_])\n",
    "    print(\"Best Columns \\n\"+\"-\"*12+\"\\n{}\".format(best_columns))\n",
    "    \n",
    "    return best_columns\n",
    "\n",
    "cols = select_features(train)\n"
   ]
  },
  {
   "cell_type": "markdown",
   "metadata": {},
   "source": [
    "# Model selection/Tuning"
   ]
  },
  {
   "cell_type": "code",
   "execution_count": 14,
   "metadata": {},
   "outputs": [
    {
     "name": "stdout",
     "output_type": "stream",
     "text": [
      "LogisticRegression\n",
      "------------------\n",
      "Best Score: 0.8226711560044894\n",
      "Best Parameters: {'solver': 'liblinear'}\n",
      "\n",
      "KNeighborsClassifier\n",
      "--------------------\n",
      "Best Score: 0.7833894500561167\n",
      "Best Parameters: {'algorithm': 'kd_tree', 'n_neighbors': 3, 'p': 1, 'weights': 'uniform'}\n",
      "\n",
      "RandomForestClassifier\n",
      "----------------------\n",
      "Best Score: 0.8451178451178452\n",
      "Best Parameters: {'criterion': 'entropy', 'max_depth': 10, 'max_features': 'sqrt', 'min_samples_leaf': 1, 'min_samples_split': 3, 'n_estimators': 9}\n",
      "\n"
     ]
    }
   ],
   "source": [
    "# Write a function to train 3 different models.\n",
    "# Using grid search to train using different combinations of hyperparameters to find best performing models.\n",
    "\n",
    "from sklearn.linear_model import LogisticRegression\n",
    "from sklearn.neighbors import KNeighborsClassifier\n",
    "from sklearn.model_selection import GridSearchCV\n",
    "\n",
    "def select_model(df,features):\n",
    "    \n",
    "    all_X = df[features]\n",
    "    all_y = df[\"Survived\"]\n",
    "\n",
    "    # List of dictionaries, each containing a model name,\n",
    "    # it's estimator and a dict of hyperparameters\n",
    "    models = [\n",
    "        {\n",
    "            \"name\": \"LogisticRegression\",\n",
    "            \"estimator\": LogisticRegression(),\n",
    "            \"hyperparameters\":\n",
    "                {\n",
    "                    \"solver\": [\"newton-cg\", \"lbfgs\", \"liblinear\"]\n",
    "                }\n",
    "        },\n",
    "        {\n",
    "            \"name\": \"KNeighborsClassifier\",\n",
    "            \"estimator\": KNeighborsClassifier(),\n",
    "            \"hyperparameters\":\n",
    "                {\n",
    "                    \"n_neighbors\": range(1,20,2),\n",
    "                    \"weights\": [\"distance\", \"uniform\"],\n",
    "                    \"algorithm\": [\"ball_tree\", \"kd_tree\", \"brute\"],\n",
    "                    \"p\": [1,2]\n",
    "                }\n",
    "        },\n",
    "        {\n",
    "            \"name\": \"RandomForestClassifier\",\n",
    "            \"estimator\": RandomForestClassifier(random_state=1),\n",
    "            \"hyperparameters\":\n",
    "                {\n",
    "                    \"n_estimators\": [4, 6, 9],\n",
    "                    \"criterion\": [\"entropy\", \"gini\"],\n",
    "                    \"max_depth\": [2, 5, 10],\n",
    "                    \"max_features\": [\"log2\", \"sqrt\"],\n",
    "                    \"min_samples_leaf\": [1, 5, 8],\n",
    "                    \"min_samples_split\": [2, 3, 5]\n",
    "\n",
    "                }\n",
    "        }\n",
    "    ]\n",
    "\n",
    "    for model in models:\n",
    "        print(model['name'])\n",
    "        print('-'*len(model['name']))\n",
    "\n",
    "        grid = GridSearchCV(model[\"estimator\"],\n",
    "                            param_grid=model[\"hyperparameters\"],\n",
    "                            cv=10)\n",
    "        grid.fit(all_X,all_y)\n",
    "        model[\"best_params\"] = grid.best_params_\n",
    "        model[\"best_score\"] = grid.best_score_\n",
    "        model[\"best_model\"] = grid.best_estimator_\n",
    "\n",
    "        print(\"Best Score: {}\".format(model[\"best_score\"]))\n",
    "        print(\"Best Parameters: {}\\n\".format(model[\"best_params\"]))\n",
    "\n",
    "    return models\n",
    "\n",
    "result = select_model(train,cols)\n"
   ]
  },
  {
   "cell_type": "markdown",
   "metadata": {},
   "source": [
    "# Submit to Kaggle"
   ]
  },
  {
   "cell_type": "code",
   "execution_count": null,
   "metadata": {
    "collapsed": true
   },
   "outputs": [],
   "source": [
    "def save_submission_file(model,cols,filename=\"submission.csv\"):\n",
    "    holdout_data = holdout[cols]\n",
    "    predictions = model.predict(holdout_data)\n",
    "    \n",
    "    holdout_ids = holdout[\"PassengerId\"]\n",
    "    submission_df = {\"PassengerId\": holdout_ids,\n",
    "                 \"Survived\": predictions}\n",
    "    submission = pd.DataFrame(submission_df)\n",
    "\n",
    "    submission.to_csv(filename,index=False)\n",
    "\n",
    "best_rf_model = result[2][\"best_model\"]\n",
    "save_submission_file(best_rf_model,cols)"
   ]
  },
  {
   "cell_type": "code",
   "execution_count": null,
   "metadata": {
    "collapsed": true
   },
   "outputs": [],
   "source": []
  }
 ],
 "metadata": {
  "kernelspec": {
   "display_name": "Python 3",
   "language": "python",
   "name": "python3"
  },
  "language_info": {
   "codemirror_mode": {
    "name": "ipython",
    "version": 3
   },
   "file_extension": ".py",
   "mimetype": "text/x-python",
   "name": "python",
   "nbconvert_exporter": "python",
   "pygments_lexer": "ipython3",
   "version": "3.7.6"
  },
  "pycharm": {
   "stem_cell": {
    "cell_type": "raw",
    "metadata": {
     "collapsed": false
    },
    "source": []
   }
  },
  "toc": {
   "base_numbering": 1,
   "nav_menu": {},
   "number_sections": true,
   "sideBar": true,
   "skip_h1_title": false,
   "title_cell": "Table of Contents",
   "title_sidebar": "Contents",
   "toc_cell": false,
   "toc_position": {},
   "toc_section_display": true,
   "toc_window_display": false
  }
 },
 "nbformat": 4,
 "nbformat_minor": 2
}
