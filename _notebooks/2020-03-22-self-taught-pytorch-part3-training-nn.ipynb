{
 "cells": [
  {
   "cell_type": "markdown",
   "metadata": {},
   "source": [
    "# Pytorch part 3 - training an CNN\n",
    "> This notebook will reuse functions from part 2 in order to train an CNN and then together we will see how to interpret the training's result. \n",
    "- toc: true \n",
    "- badges: true\n",
    "- comments: true\n",
    "- categories: [self-taught, tutorial]\n",
    "- image: images/pytorch_ava.png"
   ]
  },
  {
   "cell_type": "markdown",
   "metadata": {},
   "source": [
    "In this part, we will go through a basic pipeline of training and debugging neural network which contains 4 main steps:\n",
    "1. Prepare the data for training\n",
    "2. Build the model\n",
    "3. Train the model\n",
    "4. Analyze the model's results\n",
    "\n",
    "In reality there are 2 very improtant steps that we are ignoring here:\n",
    "- Data collection and labeling: this step comes before step 1 and is the most tricky and time consuming. \n",
    "- Deployment and testing: after finishing training, we need to deploy it to production. We will try to cover this step later. \n",
    "To be simple and pytorch oritented, we will use the same dataset like part 2, `FASHION MNIST`, but now we will require some helps from `torchvision` package. \n",
    "\n",
    "So now, let's get started!"
   ]
  },
  {
   "cell_type": "markdown",
   "metadata": {},
   "source": [
    "## Data and Data processing\n",
    "1. **Prepare the data for training** - *we are here*\n",
    "2. Build the model\n",
    "3. Train the model\n",
    "4. Analyze the model's results\n",
    "\n",
    "Briefly remind, the Fashion-MNIST dataset which was designed to mirror the original MNIST dataset as closely as possible while introducing higher difficulty in training due to simply having more complex data than hand written images. \n",
    "\n",
    "The dataset has the following ten classes of fashion items:\n",
    "\n",
    "| Index | 0           | 1       | 2        | 3     | 4    | 5      | 6     | 7       | 8   | 9          |\n",
    "|-------|-------------|---------|----------|-------|------|--------|-------|---------|-----|------------|\n",
    "| Label | T-shirt/top | Trouser | Pullover | Dress | Coat | Sandal | Shirt | Sneaker | Bag | Ankle boot |\n",
    "\n",
    "A sample of the items look like this:  \n",
    "\n",
    "![sample_fashition_mnist](data/sample_fashion_mnist.png)"
   ]
  },
  {
   "cell_type": "markdown",
   "metadata": {},
   "source": [
    "Firstly we need to import all the necessary packages. "
   ]
  },
  {
   "cell_type": "code",
   "execution_count": 1,
   "metadata": {
    "ExecuteTime": {
     "end_time": "2020-04-20T10:53:35.010578Z",
     "start_time": "2020-04-20T10:53:13.912563Z"
    }
   },
   "outputs": [],
   "source": [
    "# import common Pytorch packages\n",
    "import torch   \n",
    "import torch.nn as nn \n",
    "import torch.optim as optim \n",
    "import torch.nn.functional as F\n",
    "\n",
    "import torchvision \n",
    "import torchvision.transforms as transforms \n",
    "\n",
    "# import other common packages used for data science\n",
    "import numpy as np\n",
    "import pandas as pd\n",
    "import matplotlib.pyplot as plt\n",
    "\n",
    "from sklearn.metrics import confusion_matrix\n",
    "import pdb # python debugger \n",
    "\n",
    "torch.set_printoptions(linewidth=120) # set print options for pytorch printe statements"
   ]
  },
  {
   "cell_type": "markdown",
   "metadata": {},
   "source": [
    "We'll follow ETL process using torchvision:\n",
    "- Extract: Get the Fashion-MNIST image data from the source.\n",
    "- Transform: Put our data into tensor form.\n",
    "- Load: Put our data into an object to make it easily accessible.\n",
    "\n",
    "For these purposes, PyTorch provides us with two classes:\n",
    "- `torch.utils.data.Dataset`: an abstract class for representing a dataset. An abstract class is a Python class that has methods we must implement, in our case are `__getitem__` and `__len__`. In order to create a custom dataset, we need to subclass the `Dataset` class and override `__len__`, that provides the size of the dataset, and `__getitem__`, supporting integer indexing in range from 0 to len(self) exclusive. Upon doing this, our new subclass can then be passed to the a PyTorch DataLoader object. \n",
    "- `torch.utils.data.DataLoader`: wraps a dataset and provides access to the underlying data."
   ]
  },
  {
   "cell_type": "markdown",
   "metadata": {},
   "source": [
    "The fashion-MNIST dataset that comes built-in with the `torchvision` package, so we won’t have to do the steps mentioned above for creatign a new dataset. Just know that the Fashion-MNIST built-in dataset class is doing this behind the scenes.  \n",
    "When we run the code below for the first time, the Fashion-MNIST dataset will be downloaded locally. Subsequent calls check for the data before downloading it. Thus, we don't have to worry about double downloads or repeated network calls."
   ]
  },
  {
   "cell_type": "code",
   "execution_count": 2,
   "metadata": {
    "ExecuteTime": {
     "end_time": "2020-04-20T10:54:56.977941Z",
     "start_time": "2020-04-20T10:54:33.160408Z"
    }
   },
   "outputs": [
    {
     "name": "stdout",
     "output_type": "stream",
     "text": [
      "Downloading http://fashion-mnist.s3-website.eu-central-1.amazonaws.com/train-images-idx3-ubyte.gz to ./data/FashionMNIST/raw/train-images-idx3-ubyte.gz\n"
     ]
    },
    {
     "data": {
      "application/vnd.jupyter.widget-view+json": {
       "model_id": "cf8beae310ab4a60a0fac8950a5e792b",
       "version_major": 2,
       "version_minor": 0
      },
      "text/plain": [
       "HBox(children=(FloatProgress(value=1.0, bar_style='info', max=1.0), HTML(value='')))"
      ]
     },
     "metadata": {},
     "output_type": "display_data"
    },
    {
     "name": "stdout",
     "output_type": "stream",
     "text": [
      "Extracting ./data/FashionMNIST/raw/train-images-idx3-ubyte.gz to ./data/FashionMNIST/raw\n",
      "Downloading http://fashion-mnist.s3-website.eu-central-1.amazonaws.com/train-labels-idx1-ubyte.gz to ./data/FashionMNIST/raw/train-labels-idx1-ubyte.gz\n"
     ]
    },
    {
     "data": {
      "application/vnd.jupyter.widget-view+json": {
       "model_id": "55caf6aa3d804b398b7e98f70b8799a9",
       "version_major": 2,
       "version_minor": 0
      },
      "text/plain": [
       "HBox(children=(FloatProgress(value=1.0, bar_style='info', max=1.0), HTML(value='')))"
      ]
     },
     "metadata": {},
     "output_type": "display_data"
    },
    {
     "name": "stdout",
     "output_type": "stream",
     "text": [
      "Extracting ./data/FashionMNIST/raw/train-labels-idx1-ubyte.gz to ./data/FashionMNIST/raw\n",
      "Downloading http://fashion-mnist.s3-website.eu-central-1.amazonaws.com/t10k-images-idx3-ubyte.gz to ./data/FashionMNIST/raw/t10k-images-idx3-ubyte.gz\n",
      "\n"
     ]
    },
    {
     "data": {
      "application/vnd.jupyter.widget-view+json": {
       "model_id": "9672af0e29944a01b0305189f13994b2",
       "version_major": 2,
       "version_minor": 0
      },
      "text/plain": [
       "HBox(children=(FloatProgress(value=1.0, bar_style='info', max=1.0), HTML(value='')))"
      ]
     },
     "metadata": {},
     "output_type": "display_data"
    },
    {
     "name": "stdout",
     "output_type": "stream",
     "text": [
      "Extracting ./data/FashionMNIST/raw/t10k-images-idx3-ubyte.gz to ./data/FashionMNIST/raw\n",
      "Downloading http://fashion-mnist.s3-website.eu-central-1.amazonaws.com/t10k-labels-idx1-ubyte.gz to ./data/FashionMNIST/raw/t10k-labels-idx1-ubyte.gz\n"
     ]
    },
    {
     "data": {
      "application/vnd.jupyter.widget-view+json": {
       "model_id": "bb04409e727c42e3aaa4c1d8b2ac11a2",
       "version_major": 2,
       "version_minor": 0
      },
      "text/plain": [
       "HBox(children=(FloatProgress(value=1.0, bar_style='info', max=1.0), HTML(value='')))"
      ]
     },
     "metadata": {},
     "output_type": "display_data"
    },
    {
     "name": "stdout",
     "output_type": "stream",
     "text": [
      "Extracting ./data/FashionMNIST/raw/t10k-labels-idx1-ubyte.gz to ./data/FashionMNIST/raw\n",
      "Processing...\n",
      "Done!\n"
     ]
    }
   ],
   "source": [
    "train_set = torchvision.datasets.FashionMNIST(\n",
    "    root='./data',                            # The location on disk where the data is located.\n",
    "    train=True,                               # If the dataset is the training set\n",
    "    download=True,                            # If the data should be downloaded.\n",
    "    transform=transforms.Compose([            # A composition of transformations performed on dataset elements.\n",
    "        transforms.ToTensor()\n",
    "    ])\n",
    ")"
   ]
  },
  {
   "cell_type": "markdown",
   "metadata": {},
   "source": [
    "Wrap the dataset into dataloader and load our first batch of sammple."
   ]
  },
  {
   "cell_type": "code",
   "execution_count": 6,
   "metadata": {
    "ExecuteTime": {
     "end_time": "2020-04-11T03:56:02.900728Z",
     "start_time": "2020-04-11T03:56:02.872007Z"
    }
   },
   "outputs": [
    {
     "data": {
      "text/plain": [
       "(torch.Size([4, 1, 28, 28]), torch.Size([4]))"
      ]
     },
     "execution_count": 6,
     "metadata": {},
     "output_type": "execute_result"
    }
   ],
   "source": [
    "train_dl = torch.utils.data.DataLoader(train_set, \n",
    "                                       batch_size=4, \n",
    "                                       shuffle=True) # the batch will be different each time a call next occurs.\n",
    "images, labels = next(iter(train_dl))\n",
    "images.shape, labels.shape"
   ]
  },
  {
   "cell_type": "markdown",
   "metadata": {},
   "source": [
    "The size of each dimention in the image tensor is defined as `(batch size, number of color channels, image height, image width)`.  \n",
    "The labels tensor has a single axis with a shape of 4, which corresponds to the 4 images inside our batch. One label for each image.\n",
    "\n",
    "So now, we have our desired dataset and dataloader in order to feed into the neural net. We can play around with the dataset to better understand it."
   ]
  },
  {
   "cell_type": "code",
   "execution_count": 5,
   "metadata": {
    "ExecuteTime": {
     "end_time": "2020-04-10T05:09:37.845964Z",
     "start_time": "2020-04-10T05:09:37.841698Z"
    }
   },
   "outputs": [
    {
     "data": {
      "text/plain": [
       "60000"
      ]
     },
     "execution_count": 5,
     "metadata": {},
     "output_type": "execute_result"
    }
   ],
   "source": [
    "# the number of samples in our dataset\n",
    "len(train_set)"
   ]
  },
  {
   "cell_type": "code",
   "execution_count": 6,
   "metadata": {
    "ExecuteTime": {
     "end_time": "2020-04-10T05:10:06.090228Z",
     "start_time": "2020-04-10T05:10:06.085164Z"
    },
    "scrolled": true
   },
   "outputs": [
    {
     "data": {
      "text/plain": [
       "tensor([9, 0, 0,  ..., 3, 0, 5])"
      ]
     },
     "execution_count": 6,
     "metadata": {},
     "output_type": "execute_result"
    }
   ],
   "source": [
    "# label of all 6000 images in train_set\n",
    "train_set.targets"
   ]
  },
  {
   "cell_type": "code",
   "execution_count": 40,
   "metadata": {
    "ExecuteTime": {
     "end_time": "2020-04-06T09:29:02.053791Z",
     "start_time": "2020-04-06T09:29:02.049458Z"
    }
   },
   "outputs": [
    {
     "data": {
      "text/plain": [
       "['T-shirt/top',\n",
       " 'Trouser',\n",
       " 'Pullover',\n",
       " 'Dress',\n",
       " 'Coat',\n",
       " 'Sandal',\n",
       " 'Shirt',\n",
       " 'Sneaker',\n",
       " 'Bag',\n",
       " 'Ankle boot']"
      ]
     },
     "execution_count": 40,
     "metadata": {},
     "output_type": "execute_result"
    }
   ],
   "source": [
    "# classes to predict \n",
    "train_set.classes"
   ]
  },
  {
   "cell_type": "code",
   "execution_count": 8,
   "metadata": {
    "ExecuteTime": {
     "end_time": "2020-04-10T05:12:20.522064Z",
     "start_time": "2020-04-10T05:12:20.512730Z"
    }
   },
   "outputs": [
    {
     "data": {
      "text/plain": [
       "tensor([6000, 6000, 6000, 6000, 6000, 6000, 6000, 6000, 6000, 6000])"
      ]
     },
     "execution_count": 8,
     "metadata": {},
     "output_type": "execute_result"
    }
   ],
   "source": [
    "# number of samples per class\n",
    "train_set.targets.bincount()"
   ]
  },
  {
   "cell_type": "code",
   "execution_count": 41,
   "metadata": {
    "ExecuteTime": {
     "end_time": "2020-04-06T09:29:02.741885Z",
     "start_time": "2020-04-06T09:29:02.532086Z"
    }
   },
   "outputs": [
    {
     "data": {
      "text/plain": [
       "<matplotlib.image.AxesImage at 0x1a2a0ee790>"
      ]
     },
     "execution_count": 41,
     "metadata": {},
     "output_type": "execute_result"
    },
    {
     "data": {
      "image/png": "[encoded data removed]",
      "text/plain": [
       "<Figure size 432x288 with 1 Axes>"
      ]
     },
     "metadata": {
      "needs_background": "light"
     },
     "output_type": "display_data"
    }
   ],
   "source": [
    "# take a look on a single item\n",
    "ys[0].item()\n",
    "plt.imshow(xs[0].squeeze(), cmap=\"gray\")"
   ]
  },
  {
   "cell_type": "code",
   "execution_count": 42,
   "metadata": {
    "ExecuteTime": {
     "end_time": "2020-04-06T09:29:04.793790Z",
     "start_time": "2020-04-06T09:29:04.566532Z"
    }
   },
   "outputs": [
    {
     "data": {
      "text/plain": [
       "<matplotlib.image.AxesImage at 0x1a2a383e90>"
      ]
     },
     "execution_count": 42,
     "metadata": {},
     "output_type": "execute_result"
    },
    {
     "data": {
      "image/png": "[encoded data removed]",
      "text/plain": [
       "<Figure size 1080x1080 with 1 Axes>"
      ]
     },
     "metadata": {
      "needs_background": "light"
     },
     "output_type": "display_data"
    }
   ],
   "source": [
    "# take a look on a batch\n",
    "grid = torchvision.utils.make_grid(xs, nrow=10)\n",
    "plt.figure(figsize=(15,15))\n",
    "plt.imshow(grid.permute(1,2,0))\n",
    "# plt.imshow(np.transpose(grid, (1,2,0)))"
   ]
  },
  {
   "cell_type": "code",
   "execution_count": null,
   "metadata": {},
   "outputs": [],
   "source": []
  },
  {
   "cell_type": "markdown",
   "metadata": {
    "heading_collapsed": true
   },
   "source": [
    "## Neural Net design with Pytorch\n",
    "1. Prepare the data for training \n",
    "2. **Build the model** -         *we are here*\n",
    "3. Train the model\n",
    "4. Analyze the model's results"
   ]
  },
  {
   "cell_type": "markdown",
   "metadata": {
    "hidden": true
   },
   "source": [
    "We’re building a CNN, so the two types of layers we'll use are linear layers and convolutional layers.   \n",
    "In order to build model using Pytorch, we have 3 essential steps:\n",
    "1. Create a neural network class that extends the nn.Module base class.\n",
    "    - `torch.nn` is PyTorch’s neural network (nn) library which contains the primary components to construct network's layers.\n",
    "    - Within the `torch.nn` package, there is a class called `Module`, and it is the base class for all of neural network modules which includes layers. All of the layers in PyTorch need to extend this base class in order to inherit all of PyTorch’s built-in functionality within the nn.Module class.\n",
    "    - For each layer, there are two primary items encapsulated inside, a `forward` function definition and a `weight tensor` which is updated as the network learns during the training process. PyTorch's neural network `module class` keeps track of the weight tensors inside each layer as `learnable parameters` of our network. Take a look at `Random topics` section for more detail info about network parameters.\n",
    "2. Define the network's layers as class attributes in the class constructor.\n",
    "    - We have two convolutional layers, `self.conv1` and `self.conv2`, and three linear layers, `self.fc1`, `self.fc2`, `self.out`.\n",
    "    - We used the abbreviation `fc` in `fc1` and `fc2` because linear layers are also called fully connected layers or dense layer. So `linear` = `dense` = `fully connected.`\n",
    "3. Define the network's forward method using the network's layer attributes as well nn.functional API operations.\n",
    "    - Every Pytorch `nn.Module` has a `forward()` method and so when we are building layers and networks, we must provide an implementation of the forward() method. The forward method is the actual transformation.\n",
    "    - The tensor input is passed forward though each layer transformation until the tensor reaches the output layer. The composition of all the individual layer forward passes defines the overall forward pass transformation for the network. The goal of the overall transformation is to transform or map the input to the correct prediction output class, and during the training process, the layer weights (data) are updated in such a way that cause the mapping to adjust to make the output closer to the correct prediction.\n",
    "    - When we implement the forward() method of our nn.Module subclass, we will typically use functions from the `nn.functional` package. This package provides us with many neural network operations that we can use for building layers. In fact, many of the nn.Module layer classes use nn.functional functions to perform their operations."
   ]
  },
  {
   "cell_type": "code",
   "execution_count": 93,
   "metadata": {
    "ExecuteTime": {
     "end_time": "2020-04-11T13:27:48.188098Z",
     "start_time": "2020-04-11T13:27:48.175833Z"
    },
    "hidden": true
   },
   "outputs": [],
   "source": [
    "#collapse-show\n",
    "import torch.nn as nn\n",
    "import torch.nn.functional as F\n",
    "\n",
    "class Network(nn.Module):    # Extend the nn.Module base class.\n",
    "    def __init__(self):      # Define layers as class attributes using pre-built layers from torch.nn\n",
    "        super().__init__()   # Extend the nn.Module base class.\n",
    "        self.conv1 = nn.Conv2d(in_channels=1, out_channels=6, kernel_size=5)\n",
    "        self.conv2 = nn.Conv2d(in_channels=6, out_channels=12, kernel_size=5)\n",
    "\n",
    "        self.fc1 = nn.Linear(in_features=12*4*4, out_features=120) # linear = dense = fc\n",
    "        self.fc2 = nn.Linear(in_features=120, out_features=60)\n",
    "        self.out = nn.Linear(in_features=60, out_features=10)\n",
    "        \n",
    "    def forward(self, x):    # Implement the forward() using network’s layer attributes and method from the nn.functional\n",
    "        # (1) input layer\n",
    "        print(f\"tensor shape before input layer 1: {x.shape}\")\n",
    "        x = x \n",
    "        \n",
    "        # (2) hidden conv layer\n",
    "        print(f\"tensor shape before conv layer 2: {x.shape}\")\n",
    "        x = self.conv1(x)\n",
    "        print(f\"tensor shape after conv operation: {x.shape}\")\n",
    "        x = F.relu(x)\n",
    "        print(f\"tensor shape after relu operation: {x.shape}\")\n",
    "        x = F.max_pool2d(x, kernel_size=2, stride=2) \n",
    "        print(f\"tensor shape after max_pool2d operation: {x.shape}\")\n",
    "        \n",
    "        # (3) hidden conv layer\n",
    "        print(f\"tensor shape before conv layer 3: {x.shape}\")\n",
    "        x = self.conv2(x)\n",
    "        x = F.relu(x)\n",
    "        x = F.max_pool2d(x, kernel_size=2, stride=2) \n",
    "\n",
    "        # (4) hidden linear layer\n",
    "        print(f\"tensor shape before linear layer 4: {x.shape}\")\n",
    "        x = x.flatten(start_dim=1) # x.reshape(-1, 12*4*4)\n",
    "        x = self.fc1(x)\n",
    "        x = F.relu(x)\n",
    "        \n",
    "        # (5) hidden linear layer\n",
    "        print(f\"tensor shape before linear layer 5: {x.shape}\")\n",
    "        x = self.fc2(x)\n",
    "        x = F.relu(x)\n",
    "        \n",
    "        # (6) output layer\n",
    "        print(f\"tensor shape before output layer 6: {x.shape}\")\n",
    "        x = self.out(x)\n",
    "#         x = F.softmax(x, dim=1)\n",
    "        print(f\"tensor shape after output layer 6: {x.shape}\")\n",
    "\n",
    "        return x"
   ]
  },
  {
   "cell_type": "markdown",
   "metadata": {
    "hidden": true
   },
   "source": [
    "Now let's feed a batch of images to our model and get its output."
   ]
  },
  {
   "cell_type": "code",
   "execution_count": 94,
   "metadata": {
    "ExecuteTime": {
     "end_time": "2020-04-11T13:36:15.813548Z",
     "start_time": "2020-04-11T13:36:15.807129Z"
    },
    "hidden": true
   },
   "outputs": [
    {
     "data": {
      "text/plain": [
       "Network(\n",
       "  (conv1): Conv2d(1, 6, kernel_size=(5, 5), stride=(1, 1))\n",
       "  (conv2): Conv2d(6, 12, kernel_size=(5, 5), stride=(1, 1))\n",
       "  (fc1): Linear(in_features=192, out_features=120, bias=True)\n",
       "  (fc2): Linear(in_features=120, out_features=60, bias=True)\n",
       "  (out): Linear(in_features=60, out_features=10, bias=True)\n",
       ")"
      ]
     },
     "execution_count": 94,
     "metadata": {},
     "output_type": "execute_result"
    }
   ],
   "source": [
    "model = Network()\n",
    "model"
   ]
  },
  {
   "cell_type": "code",
   "execution_count": 95,
   "metadata": {
    "ExecuteTime": {
     "end_time": "2020-04-11T13:36:17.772017Z",
     "start_time": "2020-04-11T13:36:17.757090Z"
    },
    "hidden": true
   },
   "outputs": [
    {
     "name": "stdout",
     "output_type": "stream",
     "text": [
      "tensor shape before input layer 1: torch.Size([4, 1, 28, 28])\n",
      "tensor shape before conv layer 2: torch.Size([4, 1, 28, 28])\n",
      "tensor shape after conv operation: torch.Size([4, 6, 24, 24])\n",
      "tensor shape after relu operation: torch.Size([4, 6, 24, 24])\n",
      "tensor shape after max_pool2d operation: torch.Size([4, 6, 12, 12])\n",
      "tensor shape before conv layer 3: torch.Size([4, 6, 12, 12])\n",
      "tensor shape before linear layer 4: torch.Size([4, 12, 4, 4])\n",
      "tensor shape before linear layer 5: torch.Size([4, 120])\n",
      "tensor shape before output layer 6: torch.Size([4, 60])\n",
      "tensor shape after output layer 6: torch.Size([4, 10])\n",
      "\n",
      "prediction tensor:\n",
      "tensor([[ 0.1019,  0.0483,  0.0173,  0.0009, -0.0897,  0.0271,  0.0504,  0.0375, -0.0684,  0.0975],\n",
      "        [ 0.1034,  0.0475,  0.0144,  0.0004, -0.0898,  0.0264,  0.0559,  0.0403, -0.0646,  0.0972],\n",
      "        [ 0.1083,  0.0468,  0.0131,  0.0014, -0.0858,  0.0244,  0.0559,  0.0406, -0.0670,  0.0975],\n",
      "        [ 0.1042,  0.0481,  0.0165, -0.0039, -0.0911,  0.0290,  0.0476,  0.0394, -0.0651,  0.0957]],\n",
      "       grad_fn=<AddmmBackward>)\n"
     ]
    }
   ],
   "source": [
    "preds = model(images)\n",
    "print(f\"\\nprediction tensor:\\n{preds}\")"
   ]
  },
  {
   "cell_type": "markdown",
   "metadata": {
    "hidden": true
   },
   "source": [
    "One thing to point out that Pytorch neural network modules are `callable Python objects` - we called the `Network` instance as if it were a function.\n",
    "What makes this possible is that PyTorch module classes implement a special Python function called `__call__()`. which will be invoked anytime the object instance is called. After the object instance is called, the `__call__()` method is invoked under the hood, and the `__call__()` in turn invokes the `forward()` method. Instead of calling the `forward()` method directly, we call the object instance. This applies to all PyTorch neural network modules, namely, networks and layers."
   ]
  },
  {
   "cell_type": "markdown",
   "metadata": {
    "hidden": true
   },
   "source": [
    "In order to access the model parameters, we can use `parameters()` or `named_parameters()` method.   \n",
    "To keep track of all the weight tensors inside the network. PyTorch has a special class called `Parameter`. The weight tensor inside every layer is an instance of this `Parameter` class. PyTorch’s `nn.Module` class is basically looking for any attributes whose values are instances of the `Parameter` class, and when it finds an instance of the parameter class, it keeps track of it.\n"
   ]
  },
  {
   "cell_type": "code",
   "execution_count": 74,
   "metadata": {
    "ExecuteTime": {
     "end_time": "2020-04-11T12:23:32.189800Z",
     "start_time": "2020-04-11T12:23:32.184702Z"
    },
    "hidden": true
   },
   "outputs": [
    {
     "name": "stdout",
     "output_type": "stream",
     "text": [
      "torch.Size([6, 1, 5, 5])\n",
      "torch.Size([6])\n",
      "torch.Size([12, 6, 5, 5])\n",
      "torch.Size([12])\n",
      "torch.Size([120, 192])\n",
      "torch.Size([120])\n",
      "torch.Size([60, 120])\n",
      "torch.Size([60])\n",
      "torch.Size([10, 60])\n",
      "torch.Size([10])\n"
     ]
    }
   ],
   "source": [
    "for param in model.parameters():\n",
    "    print(param.shape)"
   ]
  },
  {
   "cell_type": "code",
   "execution_count": 73,
   "metadata": {
    "ExecuteTime": {
     "end_time": "2020-04-11T12:23:30.179234Z",
     "start_time": "2020-04-11T12:23:30.173732Z"
    },
    "hidden": true
   },
   "outputs": [
    {
     "name": "stdout",
     "output_type": "stream",
     "text": [
      "conv1.weight: torch.Size([6, 1, 5, 5])\n",
      "conv1.bias: torch.Size([6])\n",
      "conv2.weight: torch.Size([12, 6, 5, 5])\n",
      "conv2.bias: torch.Size([12])\n",
      "fc1.weight: torch.Size([120, 192])\n",
      "fc1.bias: torch.Size([120])\n",
      "fc2.weight: torch.Size([60, 120])\n",
      "fc2.bias: torch.Size([60])\n",
      "out.weight: torch.Size([10, 60])\n",
      "out.bias: torch.Size([10])\n"
     ]
    }
   ],
   "source": [
    "for name, param in model.named_parameters():\n",
    "    print(f\"{name}: {param.shape}\")"
   ]
  },
  {
   "cell_type": "markdown",
   "metadata": {
    "hidden": true
   },
   "source": [
    "Ok so now, we will go through each layer in order to inspect, debug it. One basic technique is to inspect tensor shape at each layer. Remember, the shape of a tensor really encodes all the information we need to know about the tensor."
   ]
  },
  {
   "cell_type": "markdown",
   "metadata": {
    "heading_collapsed": true,
    "hidden": true
   },
   "source": [
    "### Input layer 1\n",
    "`tensor shape before input layer 1: torch.Size([1, 1, 28, 28])`  \n",
    "`tensor shape before conv layer 2: torch.Size([1, 1, 28, 28])`"
   ]
  },
  {
   "cell_type": "markdown",
   "metadata": {
    "hidden": true
   },
   "source": [
    "This value in each of these dimensions represent the following values: `(batch size, color channels, height, width)`.  \n",
    "Since the input layer is just the identity function, the output shape doesn’t change."
   ]
  },
  {
   "cell_type": "markdown",
   "metadata": {
    "heading_collapsed": true,
    "hidden": true
   },
   "source": [
    "### Hidden conv layer 2\n",
    "`tensor shape after relu operation: torch.Size([1, 6, 24, 24])`  \n",
    "`tensor shape after max_pool2d operation: torch.Size([1, 6, 12, 12])`\n",
    "![](data/conv.gif)\n"
   ]
  },
  {
   "cell_type": "markdown",
   "metadata": {
    "hidden": true
   },
   "source": [
    "Our convolution layer includes 3 operations: `convolution`, `relu` and `max_pooling 2d`. Now we will go through each operation. Be attention that the `batch_size` is fixed as we move though the entire forward pass. \n",
    "#### `Convolution Operation`:   \n",
    "`tensor shape before conv layer 2: torch.Size([1, 1, 28, 28])`  \n",
    "`tensor shape after conv operation: torch.Size([1, 6, 24, 24])`  "
   ]
  },
  {
   "cell_type": "code",
   "execution_count": 77,
   "metadata": {
    "ExecuteTime": {
     "end_time": "2020-04-11T13:00:47.006633Z",
     "start_time": "2020-04-11T13:00:47.002342Z"
    },
    "hidden": true,
    "scrolled": true
   },
   "outputs": [
    {
     "data": {
      "text/plain": [
       "Conv2d(1, 6, kernel_size=(5, 5), stride=(1, 1))"
      ]
     },
     "execution_count": 77,
     "metadata": {},
     "output_type": "execute_result"
    }
   ],
   "source": [
    "model.conv1"
   ]
  },
  {
   "cell_type": "code",
   "execution_count": 76,
   "metadata": {
    "ExecuteTime": {
     "end_time": "2020-04-11T12:57:04.463770Z",
     "start_time": "2020-04-11T12:57:04.458858Z"
    },
    "hidden": true
   },
   "outputs": [
    {
     "data": {
      "text/plain": [
       "(torch.Size([6, 1, 5, 5]), torch.Size([6]))"
      ]
     },
     "execution_count": 76,
     "metadata": {},
     "output_type": "execute_result"
    }
   ],
   "source": [
    "model.conv1.weight.shape, model.conv1.bias.shape"
   ]
  },
  {
   "cell_type": "markdown",
   "metadata": {
    "hidden": true
   },
   "source": [
    "Some keynotes about this operation:\n",
    "- This operation convolves the input tensor using 6 randomly initialized 5x5 layers, also known as `filters` or `kernels`, to produce 6 output channels. The stride tells the conv layer how far the filter should slide after each operation in the overall convolution. \n",
    "- explain parameters of this operation:\n",
    "    - kernel_size: Sets the filter size. The words kernel and filter are interchangeable.\n",
    "    - out_channels: Sets the number of filters. One filter produces one output channel.\n",
    "    - out_features: Sets the size of the output tensor.\n",
    "- The `weight tensor` is a rank-4 tensor and reflects `(nr of filters, depth, height, width)`.   \n",
    "- `The filters have depth that accounts for the input channels`.  \n",
    "- The parameter `out_channels` defined in `self.conv1` determines how many filters will be created. However, we dont actually have 6 distinct tensors but `all tensors are represented using a single weight tensor`.  \n",
    "- After convolution, the output channels are generated which is also called `feature maps`. This is due to the fact that the pattern detection that emerges as the weights are updated represent features like edges and other more sophisticated patterns.\n",
    "- One pattern that shows up quite often is that we increase our `out_channels` as we add additional conv layers, and after we switch to linear layers we shrink our out_features as we filter down to our number of output classes."
   ]
  },
  {
   "cell_type": "markdown",
   "metadata": {
    "heading_collapsed": true,
    "hidden": true
   },
   "source": [
    "#### `Relu operation`: \n",
    "\n",
    "This operation maps all negative values to 0. This means that all the values in the tensor are now positive. This function is pure operation and does not have weights. That's why we call them directly from the `nn.functional`."
   ]
  },
  {
   "cell_type": "markdown",
   "metadata": {
    "heading_collapsed": true,
    "hidden": true
   },
   "source": [
    "#### `Max pooling operation`: \n",
    "\n",
    "This operation extracts the max value from each 2x2 section of the fix feature maps that were created by the convolutions.  \n",
    "The same as `relu`, this operation does not have weight and is called directly from `nn.functional`. Sometimes we may see pooling operations referred to as pooling layers. However, what makes a layer distinct from an operation is that layers have weights. Since pooling operations and activation functions do not have weights, we will refer to them as operations and view them as being added to the collection of layer operations.   \n",
    "\n",
    "Let's have a look at the formula for computing the output size of the tensor after performing convolutional and pooling operations.   \n",
    "Given $n_{h} \\times n_{w}$ input, $f_{h} \\times f_{w}$ filter, padding $p$ and stride $s$.\n",
    "The height, width of the output size $O_{h}$, $O_{w}$ is defined by this formular:\n",
    "\n",
    "\\begin{equation}\n",
    "O_{h}=\\frac{n_{h}-f_{h}+2 p}{s}+1;    \n",
    "O_{w}=\\frac{n_{w}-f_{w}+2 p}{s}+1\n",
    "\\end{equation}\n",
    "\n",
    "\n",
    "\n",
    "    "
   ]
  },
  {
   "cell_type": "markdown",
   "metadata": {
    "heading_collapsed": true,
    "hidden": true
   },
   "source": [
    "### Hidden conv layer 3\n",
    "`tensor shape before conv layer 3: torch.Size([1, 6, 12, 12])`  \n",
    "`tensor shape before linear layer 4: torch.Size([1, 12, 4, 4])`"
   ]
  },
  {
   "cell_type": "code",
   "execution_count": 78,
   "metadata": {
    "ExecuteTime": {
     "end_time": "2020-04-11T13:07:43.737233Z",
     "start_time": "2020-04-11T13:07:43.732989Z"
    },
    "hidden": true
   },
   "outputs": [
    {
     "data": {
      "text/plain": [
       "Conv2d(6, 12, kernel_size=(5, 5), stride=(1, 1))"
      ]
     },
     "execution_count": 78,
     "metadata": {},
     "output_type": "execute_result"
    }
   ],
   "source": [
    "model.conv2"
   ]
  },
  {
   "cell_type": "code",
   "execution_count": 79,
   "metadata": {
    "ExecuteTime": {
     "end_time": "2020-04-11T13:07:57.978551Z",
     "start_time": "2020-04-11T13:07:57.973109Z"
    },
    "hidden": true
   },
   "outputs": [
    {
     "data": {
      "text/plain": [
       "(torch.Size([12, 6, 5, 5]), torch.Size([12]))"
      ]
     },
     "execution_count": 79,
     "metadata": {},
     "output_type": "execute_result"
    }
   ],
   "source": [
    "model.conv2.weight.shape, model.conv2.bias.shape"
   ]
  },
  {
   "cell_type": "markdown",
   "metadata": {
    "hidden": true
   },
   "source": [
    "This layer transforms the tensor in the same was as `self.conv1` and reduces the height and width dimensions further. However, each filter now has a depth of 6 which come from the 6 output channels from the first convolution layer. \n",
    "The shape of the resulting output of `self.conv2` allows us to see why we reshape, also called `flattening`, the tensor using `12*4*4` before passing the tensor to the first linear layer, `self.fc1`. The resulting shape is `1x192`. The 1 in this case represents the batch size, and the 192 is the number of elements in the tensor that are now in the same dimension."
   ]
  },
  {
   "cell_type": "markdown",
   "metadata": {
    "heading_collapsed": true,
    "hidden": true
   },
   "source": [
    "### linear layer 4, 5\n",
    "`tensor shape before linear layer 4: torch.Size([1, 12, 4, 4])`  \n",
    "`tensor shape before linear layer 5: torch.Size([1, 120])`  \n",
    "`tensor shape before output layer 6: torch.Size([1, 60])`  \n",
    "`tensor shape after output layer 6: torch.Size([1, 10])`"
   ]
  },
  {
   "cell_type": "code",
   "execution_count": 90,
   "metadata": {
    "ExecuteTime": {
     "end_time": "2020-04-11T13:10:36.428248Z",
     "start_time": "2020-04-11T13:10:36.420808Z"
    },
    "hidden": true
   },
   "outputs": [
    {
     "name": "stdout",
     "output_type": "stream",
     "text": [
      "Linear(in_features=192, out_features=120, bias=True)\n"
     ]
    },
    {
     "data": {
      "text/plain": [
       "(torch.Size([120, 192]), torch.Size([120]))"
      ]
     },
     "execution_count": 90,
     "metadata": {},
     "output_type": "execute_result"
    }
   ],
   "source": [
    "print(model.fc1)\n",
    "model.fc1.weight.shape, model.fc1.bias.shape"
   ]
  },
  {
   "cell_type": "code",
   "execution_count": 91,
   "metadata": {
    "ExecuteTime": {
     "end_time": "2020-04-11T13:10:45.236304Z",
     "start_time": "2020-04-11T13:10:45.230651Z"
    },
    "hidden": true
   },
   "outputs": [
    {
     "name": "stdout",
     "output_type": "stream",
     "text": [
      "Linear(in_features=120, out_features=60, bias=True)\n"
     ]
    },
    {
     "data": {
      "text/plain": [
       "(torch.Size([60, 120]), torch.Size([60]))"
      ]
     },
     "execution_count": 91,
     "metadata": {},
     "output_type": "execute_result"
    }
   ],
   "source": [
    "print(model.fc2)\n",
    "model.fc2.weight.shape, model.fc2.bias.shape"
   ]
  },
  {
   "cell_type": "code",
   "execution_count": 92,
   "metadata": {
    "ExecuteTime": {
     "end_time": "2020-04-11T13:10:54.483853Z",
     "start_time": "2020-04-11T13:10:54.479145Z"
    },
    "hidden": true
   },
   "outputs": [
    {
     "name": "stdout",
     "output_type": "stream",
     "text": [
      "Linear(in_features=60, out_features=10, bias=True)\n"
     ]
    },
    {
     "data": {
      "text/plain": [
       "(torch.Size([10, 60]), torch.Size([10]))"
      ]
     },
     "execution_count": 92,
     "metadata": {},
     "output_type": "execute_result"
    }
   ],
   "source": [
    "print(model.out)\n",
    "model.out.weight.shape, model.out.bias.shape"
   ]
  },
  {
   "cell_type": "markdown",
   "metadata": {
    "hidden": true
   },
   "source": [
    "Now, we just have a series of linear layers followed by non-linear activation function until we reach the output layer.\n",
    "`Linear layers` use matrix multiplication to transform their `in_features` to `out_features`. \n",
    "For example `self.fc1` has in_feature's shape (1, 192) and out_feature's shape (1, 120). Its `weight matrix` will have the shape of (120,192). In general, the weight matrix defines a linear function that maps a 1-dimensional tensor with 192 elements to a 1-dimensional tensor that has 120 elements. The weight matrix is auto generated with randomly initizalized weights when we create an instance of linear layer class.\n",
    "\n",
    "Given $A$, $x$, $b$, $y$ are `Weight matrix tensor`, `Input tensor`, `Bias tensor` and `Output tensor`, respectively. Mathematical notation of the linear transformation is:\n",
    "\\begin{equation}\n",
    "y=A x+b\n",
    "\\end{equation}\n",
    "\n",
    "\n"
   ]
  },
  {
   "cell_type": "markdown",
   "metadata": {
    "heading_collapsed": true,
    "hidden": true
   },
   "source": [
    "### output layer 6\n",
    "`tensor shape before output layer 6: torch.Size([1, 60])`  \n",
    "`tensor shape after output layer 6: torch.Size([1, 10])`\n",
    "\n",
    "`prediction tensor:\n",
    "tensor([[-0.0197,  0.1284, -0.1158, -0.0096, -0.0135,  0.0599, -0.0663,  0.0724, -0.0030, -0.0063],\n",
    "        [-0.0270,  0.1266, -0.1168, -0.0085, -0.0073,  0.0600, -0.0675,  0.0805, -0.0065, -0.0103],\n",
    "        [-0.0255,  0.1297, -0.1183, -0.0134, -0.0149,  0.0569, -0.0709,  0.0623, -0.0059, -0.0065],\n",
    "        [-0.0316,  0.1310, -0.1178, -0.0057, -0.0064,  0.0585, -0.0710,  0.0796, -0.0054, -0.0063]],\n",
    "       grad_fn=<AddmmBackward>)`"
   ]
  },
  {
   "cell_type": "markdown",
   "metadata": {
    "hidden": true
   },
   "source": [
    "The prediction tensor has a shape of (4, 10) which reflects `(batch_size, number of prediction classes)`. The `number of prediction classes` is 10 because we have 10 classes, each number is the assigned value of the specific output class.  \n",
    "\n",
    "Inside the network we usually use `relu()` as our non-linear activation function, but for the output layer, we use `softmax()`. The softmax function returns a positive probability for each of the prediction classes, and the probabilities sum to 1. However, in our case, we won't use `softmax()` because the loss function that we'll use, `F.cross_entropy()`, implicitly performs the `softmax()` operation on its input, so we'll just return the result of the last linear transformation. (save one operation at inference^^)\n",
    "\n",
    "To check the predictions against the labels, we use the `argmax()` function to figure out which index contains the highest prediction value. Once we know which index has the highest prediction value, we can compare the index with the label to see if there is a match.\n"
   ]
  },
  {
   "cell_type": "code",
   "execution_count": 63,
   "metadata": {
    "ExecuteTime": {
     "end_time": "2020-04-11T08:26:05.016624Z",
     "start_time": "2020-04-11T08:26:05.004100Z"
    },
    "hidden": true
   },
   "outputs": [
    {
     "name": "stderr",
     "output_type": "stream",
     "text": [
      "/Users/phucnsp/anaconda3/envs/fastai2/lib/python3.7/site-packages/ipykernel_launcher.py:1: UserWarning: Implicit dimension choice for softmax has been deprecated. Change the call to include dim=X as an argument.\n",
      "  \"\"\"Entry point for launching an IPython kernel.\n"
     ]
    },
    {
     "data": {
      "text/plain": [
       "tensor([[0.0976, 0.1131, 0.0886, 0.0986, 0.0982, 0.1057, 0.0931, 0.1070, 0.0992, 0.0989],\n",
       "        [0.0969, 0.1130, 0.0886, 0.0987, 0.0988, 0.1057, 0.0930, 0.1079, 0.0989, 0.0985],\n",
       "        [0.0973, 0.1137, 0.0887, 0.0985, 0.0984, 0.1057, 0.0930, 0.1063, 0.0993, 0.0992],\n",
       "        [0.0964, 0.1134, 0.0885, 0.0989, 0.0989, 0.1055, 0.0927, 0.1078, 0.0990, 0.0989]], grad_fn=<SoftmaxBackward>)"
      ]
     },
     "execution_count": 63,
     "metadata": {},
     "output_type": "execute_result"
    }
   ],
   "source": [
    "F.softmax(preds)"
   ]
  },
  {
   "cell_type": "code",
   "execution_count": 67,
   "metadata": {
    "ExecuteTime": {
     "end_time": "2020-04-11T08:28:11.571712Z",
     "start_time": "2020-04-11T08:28:11.565648Z"
    },
    "hidden": true,
    "scrolled": true
   },
   "outputs": [
    {
     "name": "stderr",
     "output_type": "stream",
     "text": [
      "/Users/phucnsp/anaconda3/envs/fastai2/lib/python3.7/site-packages/ipykernel_launcher.py:1: UserWarning: Implicit dimension choice for softmax has been deprecated. Change the call to include dim=X as an argument.\n",
      "  \"\"\"Entry point for launching an IPython kernel.\n"
     ]
    },
    {
     "data": {
      "text/plain": [
       "tensor([1, 1, 1, 1])"
      ]
     },
     "execution_count": 67,
     "metadata": {},
     "output_type": "execute_result"
    }
   ],
   "source": [
    "pred_after_argmax = torch.argmax(F.softmax(preds), dim=1)\n",
    "pred_after_argmax"
   ]
  },
  {
   "cell_type": "markdown",
   "metadata": {
    "hidden": true
   },
   "source": [
    "Now we can compare the prediciton result against the label tensor by using `eq` operation which will do element-wise comparision between prediction tensor and label tensor. And then we will sum the correct prediction to see how many predictions are correct.  "
   ]
  },
  {
   "cell_type": "code",
   "execution_count": 69,
   "metadata": {
    "ExecuteTime": {
     "end_time": "2020-04-11T08:33:15.710848Z",
     "start_time": "2020-04-11T08:33:15.706298Z"
    },
    "hidden": true
   },
   "outputs": [
    {
     "data": {
      "text/plain": [
       "tensor(2)"
      ]
     },
     "execution_count": 69,
     "metadata": {},
     "output_type": "execute_result"
    }
   ],
   "source": [
    "pred_after_argmax.eq(labels).sum()"
   ]
  },
  {
   "cell_type": "markdown",
   "metadata": {
    "heading_collapsed": true
   },
   "source": [
    "## Training NN"
   ]
  },
  {
   "cell_type": "markdown",
   "metadata": {
    "hidden": true
   },
   "source": [
    "We are now ready to begin the training process. The training process is an iterative process which including following steps:\n",
    "1. **Get batch from the training set**.  \n",
    "    - Since we have 60,000 samples in our training set, we will have 60,000 / 100 = 600 iterations. Something to notice, batch_size will directly impact to the number of times the weights updated. In our case, the weights will be updated 600 times by the end of each loop. So far, there is no rule-of-thump for selecting the value of batch size so we still need to do trial and error to figure out the best value.\n",
    "    \n",
    "2. **Pass batch to network.**\n",
    "\n",
    "3. **Calculate the loss (difference between the predicted values and the true values).**\n",
    "    - To be notice, the function `cross_entropy` has a parameter called `reduction` which has 3 option - `none, mean, sum`. By default, this variable is set to `mean` which will average the loss value by batch_size. `None` and `sum` means there is no reduction applied and the output will be summed, respectively.\n",
    "\n",
    "4. **Calculate the gradient of the loss function w.r.t the network's weights.**\n",
    "   - Before calculate the gradient, we need to zero out these gradients, by calling `optimizer.zero_grad()`, because after we call the loss.backward() method, the gradients will be calculated and added to the grad attributes of our network's parameters.  \n",
    "   - Calculating the gradients is very easy using PyTorch. Since PyTorch has created a computation graph under the hood. As our tensor flowed forward through our network, all of the computations where added to the graph. The computation graph is then used by PyTorch to calculate the gradients of the loss function with respect to the network's weights.\n",
    "   \n",
    "5. **Update the weights using the gradients to reduce the loss.**\n",
    "    - The gradients calculated from step 4 are used by the optimizer to update the respective weights. \n",
    "    \n",
    "6. **Repeat steps 1-5 until one epoch is completed.**\n",
    "7. **Repeat steps 1-6 for as many epochs required to reach the minimum loss.**\n",
    "\n",
    "To create our optimizer, we use the `torch.optim` package that has many optimization algorithm implementations that we can use, for example: Adam. The model's parameters and learning rate are passed to the optimizer. `lr` tells optimizer how far to step in the direction of minimizing loss fct while `Parameters` provide Adam the ability to access gradients. \n"
   ]
  },
  {
   "cell_type": "code",
   "execution_count": 6,
   "metadata": {
    "ExecuteTime": {
     "end_time": "2020-04-08T01:40:34.782473Z",
     "start_time": "2020-04-08T01:39:42.189717Z"
    },
    "hidden": true
   },
   "outputs": [
    {
     "name": "stderr",
     "output_type": "stream",
     "text": [
      "/Users/phucnsp/anaconda3/envs/fastai2/lib/python3.7/site-packages/ipykernel_launcher.py:4: UserWarning: Implicit dimension choice for softmax has been deprecated. Change the call to include dim=X as an argument.\n",
      "  after removing the cwd from sys.path.\n"
     ]
    },
    {
     "name": "stdout",
     "output_type": "stream",
     "text": [
      "epoch:       0 \n",
      "avg_loss: 0.6262958686550458 \n",
      "avg_acc : 76.13\n",
      "epoch:       1 \n",
      "avg_loss: 0.4225387443850438 \n",
      "avg_acc : 84.28333333333333\n",
      "epoch:       2 \n",
      "avg_loss: 0.37975253333648046 \n",
      "avg_acc : 85.75166666666667\n"
     ]
    }
   ],
   "source": [
    "model = Network()\n",
    "train_dl = torch.utils.data.DataLoader(train_set, batch_size=100) \n",
    "optimizer = torch.optim.Adam(model.parameters(), lr=0.01) \n",
    "accuracy = lambda preds, lbs: (F.softmax(preds).argmax(dim=1) == lbs).sum().item()\n",
    "\n",
    "for epoch in range(3):\n",
    "    \n",
    "    total_loss = 0\n",
    "    total_acc = 0\n",
    "\n",
    "    for batch in train_dl:                    \n",
    "        images, labels = batch                # 1. Get batch from the training set.\n",
    "        preds = model(images)                 # 2. Pass batch to network.\n",
    "        loss = F.cross_entropy(preds, labels) # 3. Calculate the loss\n",
    "\n",
    "        optimizer.zero_grad()            \n",
    "        loss.backward()                       # 4. Calculate the gradient\n",
    "        optimizer.step()                      # 5. Update the weights\n",
    "\n",
    "        total_loss += loss.item()\n",
    "        total_acc  += accuracy(preds, labels)\n",
    "    \n",
    "    nr_iters_per_epoch = len(train_dl)\n",
    "    print(f\"epoch:       {epoch} \\navg_loss: {total_loss/nr_iters_per_epoch} \\navg_acc : {total_acc/nr_iters_per_epoch}\")\n",
    "    "
   ]
  },
  {
   "cell_type": "markdown",
   "metadata": {
    "heading_collapsed": true
   },
   "source": [
    "## Analyze the model's results"
   ]
  },
  {
   "cell_type": "markdown",
   "metadata": {
    "heading_collapsed": true,
    "hidden": true
   },
   "source": [
    "##### Analyse classification result using a Confusion Matrix "
   ]
  },
  {
   "cell_type": "markdown",
   "metadata": {
    "hidden": true
   },
   "source": [
    "The confusion matrix will show us which categories the model is predicting correctly and which categories the model is predicting incorrectly. For the incorrect predictions, this will show us which categories are confusing the model.\n",
    "\n",
    "Now, if we compare the two tensors element-wise and count the number of predicted labels vs the target labels, the values inside the two tensors act as coordinates for our matrix. Let's stack these two tensors along the second dimension so we can have 60,000 ordered pairs."
   ]
  },
  {
   "cell_type": "code",
   "execution_count": 81,
   "metadata": {
    "ExecuteTime": {
     "end_time": "2020-04-07T22:59:01.604228Z",
     "start_time": "2020-04-07T22:59:01.600153Z"
    },
    "hidden": true,
    "scrolled": true
   },
   "outputs": [
    {
     "data": {
      "text/plain": [
       "(60000, 60000)"
      ]
     },
     "execution_count": 81,
     "metadata": {},
     "output_type": "execute_result"
    }
   ],
   "source": [
    "len(train_set), len(train_set.targets)"
   ]
  },
  {
   "cell_type": "code",
   "execution_count": 82,
   "metadata": {
    "ExecuteTime": {
     "end_time": "2020-04-07T22:59:12.081313Z",
     "start_time": "2020-04-07T22:59:01.842469Z"
    },
    "hidden": true
   },
   "outputs": [
    {
     "data": {
      "text/plain": [
       "torch.Size([60000, 2])"
      ]
     },
     "execution_count": 82,
     "metadata": {},
     "output_type": "execute_result"
    }
   ],
   "source": [
    "# Get predictions for the entire training set\n",
    "@torch.no_grad()\n",
    "def get_all_preds(model, loader):\n",
    "    all_preds = torch.tensor([])\n",
    "    for batch in loader:\n",
    "        imgs, lbs = batch\n",
    "        \n",
    "        preds = model(imgs)\n",
    "        all_preds = torch.cat((all_preds, preds), dim=0)\n",
    "    return all_preds\n",
    "\n",
    "with torch.no_grad():\n",
    "    prediction_loader = torch.utils.data.DataLoader(train_set, batch_size=10000)\n",
    "    train_preds = get_all_preds(model, prediction_loader)\n",
    "    \n",
    "stacked = torch.stack(\n",
    "(\n",
    "    train_set.targets,\n",
    "    train_preds.argmax(dim=1)\n",
    "), dim=1)\n",
    "stacked.shape"
   ]
  },
  {
   "cell_type": "code",
   "execution_count": 83,
   "metadata": {
    "ExecuteTime": {
     "end_time": "2020-04-07T22:59:13.209933Z",
     "start_time": "2020-04-07T22:59:12.083324Z"
    },
    "hidden": true
   },
   "outputs": [
    {
     "data": {
      "text/plain": [
       "tensor([[5523,    1,   46,   59,   15,    2,  306,    0,   48,    0],\n",
       "        [  36, 5829,    3,   77,   15,    0,   32,    0,    8,    0],\n",
       "        [ 144,    6, 3704,   51, 1359,    3,  603,    0,  129,    1],\n",
       "        [ 554,   26,    2, 5077,  189,    0,  135,    0,   15,    2],\n",
       "        [  49,    3,   99,  161, 5298,    1,  316,    0,   72,    1],\n",
       "        [  13,    0,    0,    0,    0, 5671,    0,  178,   81,   57],\n",
       "        [1443,   10,  244,   75,  693,    0, 3414,    0,  121,    0],\n",
       "        [   1,    0,    0,    0,    0,   38,    0, 5823,   19,  119],\n",
       "        [  45,    0,    4,    8,   17,    1,   34,    4, 5884,    3],\n",
       "        [   0,    0,    0,    0,    0,   23,    0,  261,    6, 5710]])"
      ]
     },
     "execution_count": 83,
     "metadata": {},
     "output_type": "execute_result"
    }
   ],
   "source": [
    "# method 1: manually calculate confusion matrix\n",
    "cmt = torch.zeros(10,10, dtype=torch.int64)\n",
    "for p in stacked:\n",
    "    tl, pl = p.tolist()\n",
    "    cmt[tl,pl] += 1\n",
    "cmt"
   ]
  },
  {
   "cell_type": "code",
   "execution_count": 84,
   "metadata": {
    "ExecuteTime": {
     "end_time": "2020-04-07T22:59:35.858576Z",
     "start_time": "2020-04-07T22:59:35.768680Z"
    },
    "hidden": true
   },
   "outputs": [
    {
     "data": {
      "text/plain": [
       "array([[5523,    1,   46,   59,   15,    2,  306,    0,   48,    0],\n",
       "       [  36, 5829,    3,   77,   15,    0,   32,    0,    8,    0],\n",
       "       [ 144,    6, 3704,   51, 1359,    3,  603,    0,  129,    1],\n",
       "       [ 554,   26,    2, 5077,  189,    0,  135,    0,   15,    2],\n",
       "       [  49,    3,   99,  161, 5298,    1,  316,    0,   72,    1],\n",
       "       [  13,    0,    0,    0,    0, 5671,    0,  178,   81,   57],\n",
       "       [1443,   10,  244,   75,  693,    0, 3414,    0,  121,    0],\n",
       "       [   1,    0,    0,    0,    0,   38,    0, 5823,   19,  119],\n",
       "       [  45,    0,    4,    8,   17,    1,   34,    4, 5884,    3],\n",
       "       [   0,    0,    0,    0,    0,   23,    0,  261,    6, 5710]])"
      ]
     },
     "execution_count": 84,
     "metadata": {},
     "output_type": "execute_result"
    }
   ],
   "source": [
    "# method 2: use sklearn \n",
    "\n",
    "import matplotlib.pyplot as plt\n",
    "from sklearn.metrics import confusion_matrix\n",
    "\n",
    "cm = confusion_matrix(train_set.targets, train_preds.argmax(dim=1))\n",
    "cm"
   ]
  },
  {
   "cell_type": "markdown",
   "metadata": {
    "ExecuteTime": {
     "end_time": "2020-04-07T11:19:20.783800Z",
     "start_time": "2020-04-07T11:19:20.645721Z"
    },
    "hidden": true
   },
   "source": [
    "To nicely plot the confusion matrix, we can use below util function.\n"
   ]
  },
  {
   "cell_type": "code",
   "execution_count": 85,
   "metadata": {
    "ExecuteTime": {
     "end_time": "2020-04-07T23:00:35.702392Z",
     "start_time": "2020-04-07T23:00:35.685308Z"
    },
    "hidden": true
   },
   "outputs": [],
   "source": [
    "import itertools\n",
    "import numpy as np\n",
    "import matplotlib.pyplot as plt\n",
    "\n",
    "def plot_confusion_matrix(cm, classes, normalize=False, title='Confusion matrix', cmap=plt.cm.Blues):\n",
    "    if normalize:\n",
    "        cm = cm.astype('float') / cm.sum(axis=1)[:, np.newaxis]\n",
    "        print(\"Normalized confusion matrix\")\n",
    "    else:\n",
    "        print('Confusion matrix, without normalization')\n",
    "\n",
    "    print(cm)\n",
    "    plt.imshow(cm, interpolation='nearest', cmap=cmap)\n",
    "    plt.title(title)\n",
    "    plt.colorbar()\n",
    "    tick_marks = np.arange(len(classes))\n",
    "    plt.xticks(tick_marks, classes, rotation=45)\n",
    "    plt.yticks(tick_marks, classes)\n",
    "\n",
    "    fmt = '.2f' if normalize else 'd'\n",
    "    thresh = cm.max() / 2.\n",
    "    for i, j in itertools.product(range(cm.shape[0]), range(cm.shape[1])):\n",
    "        plt.text(j, i, format(cm[i, j], fmt), horizontalalignment=\"center\", color=\"white\" if cm[i, j] > thresh else \"black\")\n",
    "\n",
    "    plt.tight_layout()\n",
    "    plt.ylabel('True label')\n",
    "    plt.xlabel('Predicted label')"
   ]
  },
  {
   "cell_type": "code",
   "execution_count": 86,
   "metadata": {
    "ExecuteTime": {
     "end_time": "2020-04-07T23:00:41.630396Z",
     "start_time": "2020-04-07T23:00:41.068412Z"
    },
    "hidden": true
   },
   "outputs": [
    {
     "name": "stdout",
     "output_type": "stream",
     "text": [
      "Confusion matrix, without normalization\n",
      "[[5523    1   46   59   15    2  306    0   48    0]\n",
      " [  36 5829    3   77   15    0   32    0    8    0]\n",
      " [ 144    6 3704   51 1359    3  603    0  129    1]\n",
      " [ 554   26    2 5077  189    0  135    0   15    2]\n",
      " [  49    3   99  161 5298    1  316    0   72    1]\n",
      " [  13    0    0    0    0 5671    0  178   81   57]\n",
      " [1443   10  244   75  693    0 3414    0  121    0]\n",
      " [   1    0    0    0    0   38    0 5823   19  119]\n",
      " [  45    0    4    8   17    1   34    4 5884    3]\n",
      " [   0    0    0    0    0   23    0  261    6 5710]]\n"
     ]
    },
    {
     "data": {
      "image/png": "[encoded data removed]",
      "text/plain": [
       "<Figure size 720x720 with 2 Axes>"
      ]
     },
     "metadata": {
      "needs_background": "light"
     },
     "output_type": "display_data"
    }
   ],
   "source": [
    "names = (\n",
    "    'T-shirt/top',\n",
    "    'Trouser',\n",
    "    'Pullover',\n",
    "    'Dress',\n",
    "    'Coat',\n",
    "    'Sandal',\n",
    "    'Shirt',\n",
    "    'Sneaker',\n",
    "    'Bag',\n",
    "    'Ankle boot'\n",
    ")\n",
    "plt.figure(figsize=(10,10))\n",
    "plot_confusion_matrix(cm, names)"
   ]
  },
  {
   "cell_type": "markdown",
   "metadata": {
    "hidden": true
   },
   "source": [
    "The confusion matrix has three axes:\n",
    "- Prediction label (class)\n",
    "- True label\n",
    "- Heat map value (color)  \n",
    "\n",
    "The prediction label and true labels show us which prediction class we are dealing with. The matrix diagonal represents locations in the matrix where the prediction and the truth are the same, so this is where we want the heat map to be darker.\n",
    "\n",
    "Any values that are not on the diagonal are incorrect predictions because the prediction and the true label don't match. To read the plot, we can use these steps:\n",
    "1. Choose a prediction label on the horizontal axis.\n",
    "2. Check the diagonal location for this label to see the total number correct.\n",
    "3. Check the other non-diagonal locations to see where the network is confused.\n",
    "\n",
    "For example, the network is confusing a T-shirt/top with a shirt, but is not confusing the T-shirt/top with things like: Ankle boot, Sneaker, Sandal.\n",
    "If we think about it, this makes pretty good sense. As our model learns, we will see the numbers that lie outside the diagonal become smaller and smaller.\n"
   ]
  },
  {
   "cell_type": "markdown",
   "metadata": {
    "heading_collapsed": true,
    "hidden": true
   },
   "source": [
    "##### Analyse training loop by using TensorBoard with PyTorch "
   ]
  },
  {
   "cell_type": "markdown",
   "metadata": {
    "ExecuteTime": {
     "end_time": "2020-04-07T23:29:43.731744Z",
     "start_time": "2020-04-07T23:29:43.724076Z"
    },
    "hidden": true
   },
   "source": [
    "[Tensorboard](https://www.tensorflow.org/tensorboard/) provides visualization and tooling needed for machine learning experimentation. With tensorboard, we can:\n",
    "- Tracking and visualizing metrics such as loss and accuracy\n",
    "- Visualizing the model graph (ops and layers)\n",
    "- Viewing histograms of weights, biases, or other tensors as they change over time\n",
    "- Projecting embeddings to a lower dimensional space\n",
    "- Displaying images, text, and audio data\n",
    "- Profiling TensorFlow programs\n",
    "- And much more\n",
    "\n",
    "It is a font-end web interface that essentially reads data from a file and displays it. PyTorch has created a utility class called `SummaryWriter` which will help us get the data out of our program, save on disk so as to tensorboard can read.   \n",
    "To use tensorboard, PyTorch version 1.1.0 is required."
   ]
  },
  {
   "cell_type": "code",
   "execution_count": 24,
   "metadata": {
    "ExecuteTime": {
     "end_time": "2020-04-08T02:59:42.752421Z",
     "start_time": "2020-04-08T02:59:42.748258Z"
    },
    "hidden": true
   },
   "outputs": [
    {
     "name": "stdout",
     "output_type": "stream",
     "text": [
      " torch version: 1.4.0\n"
     ]
    }
   ],
   "source": [
    "import torch\n",
    "print(f\" torch version: {torch.__version__}\")"
   ]
  },
  {
   "cell_type": "code",
   "execution_count": null,
   "metadata": {
    "hidden": true
   },
   "outputs": [],
   "source": [
    "!pip install tensorboard==1.15.0;\n",
    "from torch.utils.tensorboard import SummaryWriter"
   ]
  },
  {
   "cell_type": "markdown",
   "metadata": {
    "hidden": true
   },
   "source": [
    "The SummaryWriter class comes with a bunch of method that we can call to selectively pick and choose which data we want to be available to TensorBoard. We will add 4 types of data to tensorboard for visualization:\n",
    "1. images\n",
    "2. graph\n",
    "3. scalar value\n",
    "4. histogram\n",
    "\n",
    "These added values are even updated and showed in real-time on tensorboard as the network trains.\n",
    "\n",
    "It is helpful to see the loss and accuracy values over time. However, the real power of TensorBoard is its out-of-the-box capability of comparing multiple runs. This allows us to rapidly experiment by varying the hyperparameter values and comparing runs to see which parameters are working best.\n",
    "\n",
    "One more thing to be notices, with PyTorch's SummaryWriter a run starts when the writer object instance is created and ends when the writer instance is closed or goes out of scope.\n"
   ]
  },
  {
   "cell_type": "code",
   "execution_count": 29,
   "metadata": {
    "ExecuteTime": {
     "end_time": "2020-04-08T03:22:38.558729Z",
     "start_time": "2020-04-08T03:20:51.469850Z"
    },
    "hidden": true
   },
   "outputs": [
    {
     "name": "stderr",
     "output_type": "stream",
     "text": [
      "/Users/phucnsp/anaconda3/envs/fastai2/lib/python3.7/site-packages/ipykernel_launcher.py:4: UserWarning: Implicit dimension choice for softmax has been deprecated. Change the call to include dim=X as an argument.\n",
      "  after removing the cwd from sys.path.\n"
     ]
    },
    {
     "name": "stdout",
     "output_type": "stream",
     "text": [
      "epoch:       0 \n",
      "avg_loss: 0.06133313849568367 \n",
      "avg_acc : 0.7699666666666667\n",
      "epoch:       1 \n",
      "avg_loss: 0.05296260863542557 \n",
      "avg_acc : 0.80595\n",
      "epoch:       2 \n",
      "avg_loss: 0.051954615861177444 \n",
      "avg_acc : 0.8122833333333334\n"
     ]
    }
   ],
   "source": [
    "model = Network()\n",
    "train_dl = torch.utils.data.DataLoader(train_set, batch_size=10)\n",
    "optimizer = torch.optim.Adam(model.parameters(), lr=0.01)\n",
    "accuracy = lambda preds, lbs: (F.softmax(preds).argmax(dim=1) == lbs).sum().item()\n",
    "\n",
    "imgs, lbls = next(iter(train_dl))    \n",
    "grid = torchvision.utils.make_grid(imgs)\n",
    "\n",
    "tb = SummaryWriter()\n",
    "tb.add_image('image', grid) #1. Add a batch of images to the writer\n",
    "tb.add_graph(model, imgs)   #2. Add graph of our model to the writer\n",
    "\n",
    "for epoch in range(3):\n",
    "    total_loss = 0\n",
    "    total_acc  = 0\n",
    "    \n",
    "    for batch in train_dl:\n",
    "        imgs, lbls = batch\n",
    "        preds = model(imgs)\n",
    "        loss = F.cross_entropy(preds, lbls)\n",
    "        \n",
    "        optimizer.zero_grad()\n",
    "        loss.backward()\n",
    "        optimizer.step()\n",
    "        \n",
    "        total_loss += loss\n",
    "        total_acc += accuracy(preds, lbls)\n",
    "    \n",
    "    nr_batch = len(train_set)\n",
    "    #3. Add scalar values, average loss and average accuracy, to display on tensorboard over time or over epoch.\n",
    "    tb.add_scalar('Average_Loss', total_loss/nr_batch, epoch) \n",
    "    tb.add_scalar('Average_Accuracy', total_acc/nr_batch, epoch)\n",
    "    \n",
    "    #4. Add values to histograms to see its frequency distributions.\n",
    "    tb.add_histogram('conv1.bias', model.conv1.bias, epoch)\n",
    "    tb.add_histogram('conv1.weight', model.conv1.weight, epoch)\n",
    "    tb.add_histogram('conv1.weight.grad', model.conv1.weight.grad, epoch)\n",
    "    \n",
    "    print(f\"epoch:       {epoch} \\navg_loss: {total_loss/nr_batch} \\navg_acc : {total_acc/nr_batch}\")\n",
    "\n",
    "tb.close()\n"
   ]
  },
  {
   "cell_type": "markdown",
   "metadata": {
    "ExecuteTime": {
     "end_time": "2020-04-07T23:43:52.934635Z",
     "start_time": "2020-04-07T23:43:52.928576Z"
    },
    "hidden": true
   },
   "source": [
    "By default, the PyTorch SummaryWriter object writes the data to disk in a directory called `./runs` that is created in the current working directory.\n",
    "To launch TensorBoard, we have 2 ways:\n",
    "1. run and show directly on jupyter notebook \n",
    "2. run the tensorboard command at our terminal and open `http://localhost:6006` on browser.    \n",
    "\n",
    "To be noticed, the defaut save path and open port are able to change if you want.\n"
   ]
  },
  {
   "cell_type": "code",
   "execution_count": 96,
   "metadata": {
    "ExecuteTime": {
     "end_time": "2020-04-12T06:27:03.759025Z",
     "start_time": "2020-04-12T06:27:03.724169Z"
    },
    "hidden": true
   },
   "outputs": [],
   "source": [
    "# 1. run and show directly on jupyter notebook \n",
    "%load_ext tensorboard\n",
    "%tensorboard --logdir=runs --port=6006\n"
   ]
  },
  {
   "cell_type": "code",
   "execution_count": 16,
   "metadata": {
    "ExecuteTime": {
     "end_time": "2020-04-08T02:34:36.006947Z",
     "start_time": "2020-04-08T02:32:16.711918Z"
    },
    "hidden": true
   },
   "outputs": [
    {
     "name": "stdout",
     "output_type": "stream",
     "text": [
      "TensorFlow installation not found - running with reduced feature set.\n",
      "TensorBoard 1.15.0 at http://VN0130.local:6006/ (Press CTRL+C to quit)\n",
      "^C\n"
     ]
    }
   ],
   "source": [
    "# 2. run the tensorboard command at our terminal and open `http://localhost:6006` on browser.\n",
    "!tensorboard --logdir=runs"
   ]
  },
  {
   "cell_type": "markdown",
   "metadata": {
    "heading_collapsed": true,
    "hidden": true
   },
   "source": [
    "##### Hyperparameter Experimenting - Training Neural Networks"
   ]
  },
  {
   "cell_type": "markdown",
   "metadata": {
    "hidden": true
   },
   "source": [
    "The best part about TensorBoard is its out-of-the-box capability of tracking our hyperparameters over time and across runs. We can use TensorBoard to rapidly experiment with different training hyperparameters comparing the results.\n",
    "\n",
    "To uniquely identify each run, we can either set the file name of the run directly, or pass a comment string to the constructor that will be appended to the auto-generated file name.\n",
    "\n",
    "Note the `cross_entropy` function with `reduction=mean` has averaged the loss over batch size and our `total_loss` is then summed up. It is correct if we have a fix batch size and its value is divisible by number of sample (if not, last batch will has less sample than others). However, in the case of batch size vary, we have to change `reduction=sum`.\n",
    "\n",
    "If we have a list of parameters, we can package them up into a set for each of our runs using the Cartesian product. The Cartesian product takes multiple sets as arguments and return a set of all ordered pairs. Note that this is equivalent to nested for-loops.\n"
   ]
  },
  {
   "cell_type": "code",
   "execution_count": 32,
   "metadata": {
    "ExecuteTime": {
     "end_time": "2020-04-08T06:54:44.598978Z",
     "start_time": "2020-04-08T06:54:44.592558Z"
    },
    "hidden": true
   },
   "outputs": [
    {
     "name": "stdout",
     "output_type": "stream",
     "text": [
      "0.1 10\n",
      "0.1 100\n",
      "0.01 10\n",
      "0.01 100\n"
     ]
    }
   ],
   "source": [
    "from itertools import product # itertools' Cartesian product implementation\n",
    "\n",
    "# define the list of parameters and their value list that we want to tolerate\n",
    "parameters = dict(\n",
    "    lr = [0.1, 0.01],\n",
    "    batch_size = [10, 100],\n",
    ")\n",
    "param_values = [v for v in parameters.values()]\n",
    "# use the Cartesian product to iterate over the pairs of parameters'values \n",
    "for lr, batch_size in product(*param_values):\n",
    "    print(lr, batch_size)\n",
    "    "
   ]
  },
  {
   "cell_type": "code",
   "execution_count": 35,
   "metadata": {
    "ExecuteTime": {
     "end_time": "2020-04-08T07:01:10.566526Z",
     "start_time": "2020-04-08T06:55:40.256756Z"
    },
    "hidden": true,
    "scrolled": true
   },
   "outputs": [
    {
     "name": "stderr",
     "output_type": "stream",
     "text": [
      "/Users/phucnsp/anaconda3/envs/fastai2/lib/python3.7/site-packages/ipykernel_launcher.py:1: UserWarning: Implicit dimension choice for softmax has been deprecated. Change the call to include dim=X as an argument.\n",
      "  \"\"\"Entry point for launching an IPython kernel.\n"
     ]
    },
    {
     "name": "stdout",
     "output_type": "stream",
     "text": [
      "epoch:       0 \n",
      "avg_loss: 2.3510418080329893 \n",
      "avg_acc : 0.10213333333333334\n",
      "epoch:       1 \n",
      "avg_loss: 2.3241496319452923 \n",
      "avg_acc : 0.10206666666666667\n",
      "epoch:       2 \n",
      "avg_loss: 2.3241496464411417 \n",
      "avg_acc : 0.10208333333333333\n",
      "epoch:       0 \n",
      "avg_loss: 2.31076997756958 \n",
      "avg_acc : 0.09978333333333333\n",
      "epoch:       1 \n",
      "avg_loss: 2.3104461242675782 \n",
      "avg_acc : 0.0994\n",
      "epoch:       2 \n",
      "avg_loss: 2.3104453076680502 \n",
      "avg_acc : 0.09963333333333334\n",
      "epoch:       0 \n",
      "avg_loss: 2.3050063188870746 \n",
      "avg_acc : 0.10093333333333333\n",
      "epoch:       1 \n",
      "avg_loss: 2.3049483956654866 \n",
      "avg_acc : 0.1014\n",
      "epoch:       2 \n",
      "avg_loss: 2.3049483927408856 \n",
      "avg_acc : 0.1014\n",
      "epoch:       0 \n",
      "avg_loss: 2.3035935297648114 \n",
      "avg_acc : 0.10016666666666667\n",
      "epoch:       1 \n",
      "avg_loss: 2.303564562733968 \n",
      "avg_acc : 0.09968333333333333\n",
      "epoch:       2 \n",
      "avg_loss: 2.303563890838623 \n",
      "avg_acc : 0.09968333333333333\n"
     ]
    }
   ],
   "source": [
    "accuracy = lambda preds, lbs: (F.softmax(preds).argmax(dim=1) == lbs).sum().item()\n",
    "model = Network()\n",
    "\n",
    "for lr, batch_size in product(*param_values):        \n",
    "    train_dl = torch.utils.data.DataLoader(train_set, \n",
    "                                           batch_size=batch_size)\n",
    "    optimizer = torch.optim.Adam(model.parameters(), lr=lr)\n",
    "\n",
    "    imgs, lbls = next(iter(train_dl))\n",
    "    grid = torchvision.utils.make_grid(imgs)\n",
    "\n",
    "    comment = f\" batch_size = {batch_size}, lr = {lr}\"\n",
    "    tb = SummaryWriter(comment=comment)\n",
    "    tb.add_image('images', grid)\n",
    "    tb.add_graph(model, imgs)\n",
    "\n",
    "    for epoch in range(3):\n",
    "        total_loss = 0\n",
    "        total_acc  = 0\n",
    "        for batch in train_dl:\n",
    "            imgs, lbls = batch\n",
    "            preds = model(imgs)\n",
    "            loss  = F.cross_entropy(preds, lbls, reduction='sum') \n",
    "\n",
    "            optimizer.zero_grad()\n",
    "            loss.backward()\n",
    "            optimizer.step()\n",
    "\n",
    "            total_loss += loss.item()\n",
    "            total_acc  += accuracy(preds, lbls)\n",
    "\n",
    "        tb.add_scalar('average_loss', total_loss/len(train_set), epoch)\n",
    "        tb.add_scalar('average_acc', total_acc/len(train_set), epoch)\n",
    "\n",
    "        for name,param in model.named_parameters():\n",
    "            tb.add_histogram(name, param, epoch)\n",
    "            tb.add_histogram(f\"{name}.grad\", param.grad, epoch)\n",
    "\n",
    "        print(f\"epoch:       {epoch} \\navg_loss: {total_loss/len(train_set)} \\navg_acc : {total_acc/len(train_set)}\")\n",
    "\n",
    "    tb.close()\n",
    "                "
   ]
  },
  {
   "cell_type": "code",
   "execution_count": 36,
   "metadata": {
    "ExecuteTime": {
     "end_time": "2020-04-08T07:02:27.995682Z",
     "start_time": "2020-04-08T07:01:53.204388Z"
    },
    "hidden": true
   },
   "outputs": [
    {
     "name": "stdout",
     "output_type": "stream",
     "text": [
      "TensorFlow installation not found - running with reduced feature set.\n",
      "TensorBoard 1.15.0 at http://VN0130.local:6007/ (Press CTRL+C to quit)\n",
      "^C\n"
     ]
    }
   ],
   "source": [
    "!tensorboard --logdir=runs"
   ]
  },
  {
   "cell_type": "markdown",
   "metadata": {
    "hidden": true
   },
   "source": [
    "We can refactor the way we manage parameters by using the following `RunBuilder` Class. The method `get_runs()` will get the runs for us that it builds based on the parameters we pass in."
   ]
  },
  {
   "cell_type": "code",
   "execution_count": 44,
   "metadata": {
    "ExecuteTime": {
     "end_time": "2020-04-08T07:53:59.900621Z",
     "start_time": "2020-04-08T07:53:59.891917Z"
    },
    "hidden": true
   },
   "outputs": [
    {
     "data": {
      "text/plain": [
       "[Run(lr=0.01, batch_size=10),\n",
       " Run(lr=0.01, batch_size=100),\n",
       " Run(lr=0.001, batch_size=10),\n",
       " Run(lr=0.001, batch_size=100)]"
      ]
     },
     "execution_count": 44,
     "metadata": {},
     "output_type": "execute_result"
    }
   ],
   "source": [
    "from collections import OrderedDict\n",
    "from collections import namedtuple\n",
    "from itertools import product\n",
    "\n",
    "class RunBuilder():\n",
    "    @staticmethod\n",
    "    def get_runs(params):\n",
    "        # create new tuple subclass called Run with named fields got from params.keys\n",
    "        Run = namedtuple('Run', params.keys())  \n",
    "        runs = []\n",
    "        # use Cartesian product to pair parameters'values and pass to Run.\n",
    "        for v in product(*params.values()):\n",
    "            runs.append(Run(*v))\n",
    "        return runs\n",
    "\n",
    "params = OrderedDict(\n",
    "            lr = [.01, .001],\n",
    "            batch_size = [10, 100]\n",
    ")\n",
    "\n",
    "runs = RunBuilder.get_runs(params)\n",
    "runs"
   ]
  },
  {
   "cell_type": "markdown",
   "metadata": {
    "hidden": true
   },
   "source": [
    "We can see that the `RunBuilder` class has built and returned a list of four runs. Each of these runs has a learning rate and a batch size that defines the run.  \n",
    "Notice the string representation of the run output. This string representation was automatically generated for us by the Run tuple class, and this string can be used to uniquely identify the run if we want to write out run statistics to disk for TensorBoard or any other visualization program.  \n",
    "Additionally, because the run is object is a tuple with named attributes, we can access the values using dot notation like so:"
   ]
  },
  {
   "cell_type": "code",
   "execution_count": 45,
   "metadata": {
    "ExecuteTime": {
     "end_time": "2020-04-08T07:55:15.268767Z",
     "start_time": "2020-04-08T07:55:15.264418Z"
    },
    "hidden": true
   },
   "outputs": [
    {
     "data": {
      "text/plain": [
       "(0.01, 10)"
      ]
     },
     "execution_count": 45,
     "metadata": {},
     "output_type": "execute_result"
    }
   ],
   "source": [
    "run = runs[0]\n",
    "run.lr, run.batch_size"
   ]
  },
  {
   "cell_type": "markdown",
   "metadata": {
    "hidden": true
   },
   "source": [
    "All we have to do to add additional values is to add them to the original parameter list, and if we want to add an additional type of parameter, all we have to do is add it. The new parameter and its values will automatically become available to be consumed inside the run. The string output for the run also updates as well.\n",
    "\n",
    "This functionality will allow us to have greater control as we experiment with different values during training.\n"
   ]
  },
  {
   "cell_type": "code",
   "execution_count": null,
   "metadata": {
    "code_folding": [],
    "hidden": true
   },
   "outputs": [],
   "source": [
    "accuracy = lambda preds, lbs: (F.softmax(preds).argmax(dim=1) == lbs).sum().item()\n",
    "model = Network()\n",
    "\n",
    "# for lr, batch_size in product(*param_values):                                  # old code\n",
    "for run in RunBuilder.get_runs(params):                                          # Changes for RunBuilder\n",
    "    train_dl = torch.utils.data.DataLoader(train_set, batch_size=run.batch_size) # Changes for RunBuilder\n",
    "    optimizer = torch.optim.Adam(model.parameters(), lr=run.lr)                  # Changes for RunBuilder\n",
    "\n",
    "    imgs, lbls = next(iter(train_dl))\n",
    "    grid = torchvision.utils.make_grid(imgs)\n",
    "\n",
    "#     comment = f\" batch_size = {batch_size}, lr = {lr}\"                          # old code\n",
    "    comment = f'-{run}'                                                           # Changes for RunBuilder\n",
    "    tb = SummaryWriter(comment=comment)\n",
    "    tb.add_image('images', grid)\n",
    "    tb.add_graph(model, imgs)\n",
    "\n",
    "    for epoch in range(3):\n",
    "        total_loss = 0\n",
    "        total_acc  = 0\n",
    "        for batch in train_dl:\n",
    "            imgs, lbls = batch\n",
    "            preds = model(imgs)\n",
    "            loss  = F.cross_entropy(preds, lbls, reduction='sum') \n",
    "\n",
    "            optimizer.zero_grad()\n",
    "            loss.backward()\n",
    "            optimizer.step()\n",
    "\n",
    "            total_loss += loss.item()\n",
    "            total_acc  += accuracy(preds, lbls)\n",
    "\n",
    "        tb.add_scalar('average_loss', total_loss/len(train_set), epoch)\n",
    "        tb.add_scalar('average_acc', total_acc/len(train_set), epoch)\n",
    "\n",
    "        for name,param in model.named_parameters():\n",
    "            tb.add_histogram(name, param, epoch)\n",
    "            tb.add_histogram(f\"{name}.grad\", param.grad, epoch)\n",
    "\n",
    "        print(f\"epoch:       {epoch} \\navg_loss: {total_loss/len(train_set)} \\navg_acc : {total_acc/len(train_set)}\")\n",
    "\n",
    "    tb.close()\n",
    "                "
   ]
  },
  {
   "cell_type": "markdown",
   "metadata": {
    "heading_collapsed": true,
    "hidden": true
   },
   "source": [
    "##### Speeding up the training process by increasing num_workers\n",
    "\n",
    "To speed up the training process, we will make use of the `num_workers` optional attribute of the `DataLoader` class. By setting this number to `1`, default set to `0`, the speep can increase up to 20% and does not improve more or even worse with setting more than 1.  \n",
    "\n",
    "The num_workers attribute tells the data loader instance how many sub-processes to use for data loading. By default, the num_workers value is set to zero, the training process will work sequentially inside the main process. After a batch is used during the training process and another one is needed, we read the batch data from disk.    \n",
    "Now, if we have a worker process, we can make use of the fact that our machine has multiple cores. This means that the next batch can already be loaded and ready to go by the time the main process is ready for another batch. This is where the speed up comes from.   \n",
    "If we add more batches to the queue doesn't mean the batches are being processes faster because we are bounded by the time it takes to forward and backward propagate a given batch.\n"
   ]
  },
  {
   "cell_type": "code",
   "execution_count": null,
   "metadata": {
    "hidden": true
   },
   "outputs": [],
   "source": []
  },
  {
   "cell_type": "markdown",
   "metadata": {
    "heading_collapsed": true
   },
   "source": [
    "## Random topics"
   ]
  },
  {
   "cell_type": "markdown",
   "metadata": {
    "heading_collapsed": true,
    "hidden": true
   },
   "source": [
    "### Neural net layer parameters"
   ]
  },
  {
   "cell_type": "markdown",
   "metadata": {
    "heading_collapsed": true,
    "hidden": true
   },
   "source": [
    "#### Parameter Vs Argument\n",
    "Parameters are used in function definitions as place-holders while arguments are the actual values that are passed to the function. The parameters can be thought of as local variables that live inside a function.  \n",
    "In our network's case, the names are the parameters and the values that we have specified are the arguments."
   ]
  },
  {
   "cell_type": "markdown",
   "metadata": {
    "heading_collapsed": true,
    "hidden": true
   },
   "source": [
    "#### Types Of Parameters: \n",
    "A lot of terms in deep learning are used loosely, and the word parameter is one of them. The goal of these particular categories is to help us remember how each parameter's value is decided.\n",
    "\n",
    "- Hyperparameters:\n",
    "    - hyperparameters are parameters whose values are picked arbitrarily. The hyperparameters are used to construct our network’s architecture and are mainly chosen based on trial and error.\n",
    "    - Convolutional layers have three parameters: `in_channels`, `out_channels`, `kernel_size`.\n",
    "    - Linear layers have 2 parameters: `in_features`, `out_features`.\n",
    "    - All of these parameters impact the network's architecture. Specifically, these parameters directly impact the weight tensors inside the layers. \n",
    "- Data dependent hyperparameters.\n",
    "    - Data dependent hyperparameters are parameters whose values are dependent on data.\n",
    "    - Some candidates from network above are:\n",
    "        - `in_channels` parameter of the conv layer: depend on the number of channels of previous layer.\n",
    "        - `in_features` parameter of the linear layer: depend on the data coming from previous layer. \n",
    "        - `out_features` parameter of the output layer: depend on the number of classes of our training set. \n",
    "\n",
    "- Learnable Parameters\n",
    "    - Learnable parameters are parameters whose values are learned during the training process.\n",
    "    - With learnable parameters, we typically start out with a set of arbitrary values, and these values then get updated in an iterative fashion as the network learns. Appropriate values are values that minimize the loss function.\n",
    "    - The learnable parameters are the weights inside our network, and they live inside each layer."
   ]
  },
  {
   "cell_type": "markdown",
   "metadata": {
    "heading_collapsed": true,
    "hidden": true
   },
   "source": [
    "### Stack vs Concat \n",
    "Concatenating joins a sequence of tensors along an existing axis, and stacking joins a sequence of tensors along a new axis.\n"
   ]
  },
  {
   "cell_type": "code",
   "execution_count": 61,
   "metadata": {
    "ExecuteTime": {
     "end_time": "2020-04-07T11:35:26.296362Z",
     "start_time": "2020-04-07T11:35:26.291976Z"
    },
    "hidden": true
   },
   "outputs": [],
   "source": [
    "import torch\n",
    "\n",
    "t1 = torch.tensor([1,1,1])\n",
    "t2 = torch.tensor([2,2,2])\n",
    "t3 = torch.tensor([3,3,3])"
   ]
  },
  {
   "cell_type": "code",
   "execution_count": 63,
   "metadata": {
    "ExecuteTime": {
     "end_time": "2020-04-07T11:35:40.287559Z",
     "start_time": "2020-04-07T11:35:40.283011Z"
    },
    "hidden": true
   },
   "outputs": [
    {
     "data": {
      "text/plain": [
       "torch.Size([9])"
      ]
     },
     "execution_count": 63,
     "metadata": {},
     "output_type": "execute_result"
    }
   ],
   "source": [
    "# Now, let’s concatenate these with one another. Notice that each of these tensors have a single axis. This \n",
    "# means that the result of the cat function will also have a single axis. This is because when we concatenate, \n",
    "# we do it along an existing axis. Notice that in this example, the only existing axis is the first axis.\n",
    "# Alright, so we took three single axis tensors each having an axis length of three, and now we have a single \n",
    "# tensor with an axis length of nine.\n",
    "\n",
    "torch.cat((t1,t2,t3),dim=0).shape"
   ]
  },
  {
   "cell_type": "code",
   "execution_count": 65,
   "metadata": {
    "ExecuteTime": {
     "end_time": "2020-04-07T11:36:04.899722Z",
     "start_time": "2020-04-07T11:36:04.894512Z"
    },
    "hidden": true
   },
   "outputs": [
    {
     "data": {
      "text/plain": [
       "torch.Size([3, 3])"
      ]
     },
     "execution_count": 65,
     "metadata": {},
     "output_type": "execute_result"
    }
   ],
   "source": [
    "# Now, let’s stack these tensors along a new axis that we’ll insert. We’ll insert an axis at the first index. \n",
    "# Note that this insertion will be happening implicitly under the hood by the stack function.\n",
    "# This gives us a new tensor that has a shape of 3 x 3. Notice how the three tensors are concatenated along \n",
    "# the first axis of this tensor. Note that we can also insert the new axis explicitly, and preform the \n",
    "# concatenation directly.\n",
    "\n",
    "torch.stack((t1,t2,t3), dim=0).shape"
   ]
  },
  {
   "cell_type": "code",
   "execution_count": 66,
   "metadata": {
    "ExecuteTime": {
     "end_time": "2020-04-07T11:43:31.572663Z",
     "start_time": "2020-04-07T11:43:31.568334Z"
    },
    "hidden": true
   },
   "outputs": [],
   "source": [
    "# example of combining stack and concat\n",
    "# Joining Images With An Existing Batch\n",
    "# Suppose we have the same three separate image tensors. Only, this time, we already have a batch tensor. \n",
    "# Assume our task is to join these three separate images with the batch.\n",
    "import torch\n",
    "batch = torch.zeros(3,3,28,28)\n",
    "t1 = torch.zeros(3,28,28)\n",
    "t2 = torch.zeros(3,28,28)\n",
    "t3 = torch.zeros(3,28,28)\n",
    "\n",
    "torch.cat(\n",
    "    (\n",
    "        batch\n",
    "        ,torch.stack(\n",
    "            (t1,t2,t3)\n",
    "            ,dim=0\n",
    "        )\n",
    "    )\n",
    "    ,dim=0\n",
    ").shape"
   ]
  },
  {
   "cell_type": "code",
   "execution_count": 70,
   "metadata": {
    "ExecuteTime": {
     "end_time": "2020-04-07T11:45:24.503047Z",
     "start_time": "2020-04-07T11:45:24.497272Z"
    },
    "hidden": true
   },
   "outputs": [
    {
     "data": {
      "text/plain": [
       "torch.Size([3, 3, 28, 28])"
      ]
     },
     "execution_count": 70,
     "metadata": {},
     "output_type": "execute_result"
    }
   ],
   "source": [
    "# Joining Batches Into A Single Batch\n",
    "import torch\n",
    "t1 = torch.zeros(1,3,28,28)\n",
    "t2 = torch.zeros(1,3,28,28)\n",
    "t3 = torch.zeros(1,3,28,28)\n",
    "torch.cat(\n",
    "    (t1,t2,t3)\n",
    "    ,dim=0\n",
    ").shape"
   ]
  },
  {
   "cell_type": "code",
   "execution_count": 71,
   "metadata": {
    "ExecuteTime": {
     "end_time": "2020-04-07T11:45:49.405080Z",
     "start_time": "2020-04-07T11:45:49.398931Z"
    },
    "hidden": true
   },
   "outputs": [
    {
     "data": {
      "text/plain": [
       "torch.Size([3, 3, 28, 28])"
      ]
     },
     "execution_count": 71,
     "metadata": {},
     "output_type": "execute_result"
    }
   ],
   "source": [
    "# Joining Images Into A Single Batch\n",
    "import torch\n",
    "t1 = torch.zeros(3,28,28)\n",
    "t2 = torch.zeros(3,28,28)\n",
    "t3 = torch.zeros(3,28,28)\n",
    "\n",
    "torch.stack(\n",
    "    (t1,t2,t3)\n",
    "    ,dim=0\n",
    ").shape"
   ]
  },
  {
   "cell_type": "markdown",
   "metadata": {
    "hidden": true
   },
   "source": [
    "### How many types of number of DL?"
   ]
  },
  {
   "cell_type": "markdown",
   "metadata": {
    "hidden": true
   },
   "source": [
    "In deep learning, there are 2 types of numbers: `parameters` and `activation`.  \n",
    "**Parameters** are numbers that are learned.  **Activations** are numbers that are calculated (by affine functions & element-wise non-linearities).\n",
    "The hidden state is actuall a set of activation."
   ]
  },
  {
   "cell_type": "markdown",
   "metadata": {},
   "source": [
    "## Reference"
   ]
  },
  {
   "cell_type": "markdown",
   "metadata": {},
   "source": [
    "Some good sources:\n",
    "- [pytorch zero to all](https://github.com/hunkim/PyTorchZeroToAll)\n",
    "- [deeplizard](https://deeplizard.com/learn/video/v5cngxo4mIg)\n",
    "- [effective pytorch](https://github.com/vahidk/EffectivePyTorch?fbclid=IwAR1MhsjnjccWy6dIVtibFOCZbWhLtAj5pSTobnkUDxw_gHgfEswnVzqrKQ0#torchscript)\n",
    "- [what is torch.nn really?](https://pytorch.org/tutorials/beginner/nn_tutorial.html)\n",
    "- [recommend walk with pytorch](https://forums.fast.ai/t/getting-comfortable-with-pytorch-projects/28371)\n",
    "- [official tutorial](https://pytorch.org/tutorials/)\n",
    "- [DL(with Pytorch)](https://github.com/Atcold/pytorch-Deep-Learning)\n",
    "- [Pytorch project template](https://github.com/moemen95/PyTorch-Project-Template)\n",
    "- [nlp turorial with pytorch](https://github.com/graykode/nlp-tutorial)\n",
    "- [UDACITY course](https://www.udacity.com/course/deep-learning-pytorch--ud188)\n",
    "- [awesome pytorch list](https://github.com/bharathgs/Awesome-pytorch-list)\n",
    "- [deep learning with pytorch](https://pytorch.org/assets/deep-learning/Deep-Learning-with-PyTorch.pdf)\n",
    "- others:\n",
    "    - https://medium.com/pytorch/get-started-with-pytorch-cloud-tpus-and-colab-a24757b8f7fc\n",
    "    - Grokking Algorithms: An illustrated guide for programmers and other curious people 1st Edition"
   ]
  },
  {
   "cell_type": "code",
   "execution_count": null,
   "metadata": {},
   "outputs": [],
   "source": []
  }
 ],
 "metadata": {
  "kernelspec": {
   "display_name": "Python [conda env:fastai2] *",
   "language": "python",
   "name": "conda-env-fastai2-py"
  },
  "language_info": {
   "codemirror_mode": {
    "name": "ipython",
    "version": 3
   },
   "file_extension": ".py",
   "mimetype": "text/x-python",
   "name": "python",
   "nbconvert_exporter": "python",
   "pygments_lexer": "ipython3",
   "version": "3.7.6"
  },
  "toc": {
   "base_numbering": 1,
   "nav_menu": {},
   "number_sections": true,
   "sideBar": true,
   "skip_h1_title": false,
   "title_cell": "Table of Contents",
   "title_sidebar": "Contents",
   "toc_cell": false,
   "toc_position": {},
   "toc_section_display": true,
   "toc_window_display": false
  }
 },
 "nbformat": 4,
 "nbformat_minor": 4
}
